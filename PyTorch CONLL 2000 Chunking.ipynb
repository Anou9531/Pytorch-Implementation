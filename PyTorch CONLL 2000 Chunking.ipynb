{
 "cells": [
  {
   "cell_type": "code",
   "execution_count": 1,
   "metadata": {},
   "outputs": [],
   "source": [
    "%matplotlib inline\n",
    "\n",
    "import torch\n",
    "from torch.autograd import Variable\n",
    "import torch.nn as nn\n",
    "import torch.nn.functional as F\n",
    "import torch.optim as optim\n",
    "\n",
    "torch.manual_seed(1)\n",
    "\n",
    "import numpy as np\n",
    "\n",
    "from tqdm import tqdm\n",
    "\n",
    "import pandas as pd\n",
    "\n",
    "import matplotlib.pyplot as plt\n",
    "import seaborn as sns\n",
    "\n",
    "from pytorch_utils import *\n",
    "from pytorch_models import *\n",
    "from utils import load_sequences, conll_classification_report_to_df\n",
    "from conlleval import main as conll_eval\n",
    "import re\n",
    "\n",
    "import io\n",
    "from pathlib import Path\n",
    "\n",
    "sns.set_context(\"poster\")\n",
    "sns.set_style(\"ticks\")"
   ]
  },
  {
   "cell_type": "code",
   "execution_count": 2,
   "metadata": {
    "collapsed": true
   },
   "outputs": [],
   "source": [
    "TRAIN_CORPUS=\"data/conll2000/train.txt\"\n",
    "TEST_CORPUS=\"data/conll2000/test.txt\""
   ]
  },
  {
   "cell_type": "code",
   "execution_count": 3,
   "metadata": {},
   "outputs": [
    {
     "name": "stdout",
     "output_type": "stream",
     "text": [
      "Total items in train corpus: 8836\n",
      "Total items in dev corpus: 100\n",
      "Total items in test corpus: 2012\n"
     ]
    }
   ],
   "source": [
    "train_corpus = load_sequences(TRAIN_CORPUS, sep=\" \", col_ids=(0, -1))\n",
    "train_corpus, dev_corpus = train_corpus[100:], train_corpus[:100]\n",
    "print(\"Total items in train corpus: %s\" % len(train_corpus))\n",
    "print(\"Total items in dev corpus: %s\" % len(dev_corpus))\n",
    "test_corpus = load_sequences(TEST_CORPUS, sep=\" \", col_ids=(0, -1))\n",
    "print(\"Total items in test corpus: %s\" % len(test_corpus))"
   ]
  },
  {
   "cell_type": "code",
   "execution_count": 4,
   "metadata": {},
   "outputs": [
    {
     "data": {
      "text/plain": [
       "[('He', 'B-NP'),\n",
       " ('talked', 'B-VP'),\n",
       " ('about', 'B-NP'),\n",
       " ('20', 'I-NP'),\n",
       " ('minutes', 'I-NP'),\n",
       " ('.', 'O')]"
      ]
     },
     "execution_count": 4,
     "metadata": {},
     "output_type": "execute_result"
    }
   ],
   "source": [
    "train_corpus[0]"
   ]
  },
  {
   "cell_type": "code",
   "execution_count": 5,
   "metadata": {
    "collapsed": true
   },
   "outputs": [],
   "source": [
    "def create_vocab(data, vocabs, char_vocab, word_idx=0):\n",
    "    n_vocabs = len(vocabs)\n",
    "    for sent in data:\n",
    "        for token_tags in sent:\n",
    "            for vocab_id in range(n_vocabs):\n",
    "                vocabs[vocab_id].add(token_tags[vocab_id])\n",
    "            char_vocab.batch_add(token_tags[word_idx])\n",
    "    print(\"Created vocabs: %s, chars[%s]\" % (\", \".join(\n",
    "        \"{}[{}]\".format(vocab.name, vocab.size)\n",
    "        for vocab in vocabs\n",
    "    ), char_vocab.size))"
   ]
  },
  {
   "cell_type": "code",
   "execution_count": 6,
   "metadata": {},
   "outputs": [
    {
     "name": "stdout",
     "output_type": "stream",
     "text": [
      "Created vocabs: words[19461], chunk_tags[23], chars[81]\n"
     ]
    }
   ],
   "source": [
    "word_vocab = Vocab(\"words\", UNK=\"UNK\", lower=True)\n",
    "char_vocab = Vocab(\"chars\", UNK=\"<U>\", lower=False)\n",
    "chunk_vocab = Vocab(\"chunk_tags\", lower=False)\n",
    "\n",
    "create_vocab(train_corpus+dev_corpus+test_corpus, [word_vocab, chunk_vocab], char_vocab)"
   ]
  },
  {
   "cell_type": "code",
   "execution_count": 7,
   "metadata": {
    "collapsed": true
   },
   "outputs": [],
   "source": [
    "def data2tensors(data, vocabs, char_vocab, word_idx=0, column_ids=(0, -1)):\n",
    "    vocabs = [vocabs[idx] for idx in column_ids]\n",
    "    n_vocabs = len(vocabs)\n",
    "    tensors = []\n",
    "    char_tensors = []\n",
    "    for sent in data:\n",
    "        sent_vecs = [[] for i in range(n_vocabs+1)] # Last is for char vecs\n",
    "        char_vecs = []\n",
    "        for token_tags in sent:\n",
    "            vocab_id = 0 # First column is the word\n",
    "            # lowercase the word\n",
    "            sent_vecs[vocab_id].append(\n",
    "                    vocabs[vocab_id].getidx(token_tags[vocab_id].lower())\n",
    "                )\n",
    "            for vocab_id in range(1, n_vocabs):\n",
    "                sent_vecs[vocab_id].append(\n",
    "                    vocabs[vocab_id].getidx(token_tags[vocab_id])\n",
    "                )\n",
    "            sent_vecs[-1].append(\n",
    "                [char_vocab.getidx(c) for c in token_tags[word_idx]]\n",
    "            )\n",
    "        tensors.append(sent_vecs)\n",
    "    return tensors"
   ]
  },
  {
   "cell_type": "code",
   "execution_count": 8,
   "metadata": {},
   "outputs": [
    {
     "name": "stdout",
     "output_type": "stream",
     "text": [
      "Train: 8836, Dev: 100, Test: 2012\n"
     ]
    }
   ],
   "source": [
    "train_tensors = data2tensors(train_corpus, [word_vocab, chunk_vocab], char_vocab)\n",
    "dev_tensors = data2tensors(dev_corpus, [word_vocab, chunk_vocab], char_vocab)\n",
    "test_tensors = data2tensors(test_corpus, [word_vocab, chunk_vocab], char_vocab)\n",
    "print(\"Train: {}, Dev: {}, Test: {}\".format(\n",
    "    len(train_tensors),\n",
    "    len(dev_tensors),\n",
    "    len(test_tensors),\n",
    "))"
   ]
  },
  {
   "cell_type": "code",
   "execution_count": 9,
   "metadata": {},
   "outputs": [],
   "source": [
    "def load_word_vectors(vector_file, ndims, vocab, cache_file, override_cache=False):\n",
    "    W = np.zeros((vocab.size, ndims), dtype=\"float32\")\n",
    "    # Check for cached file and return vectors\n",
    "    cache_file = Path(cache_file)\n",
    "    if cache_file.is_file() and not override_cache:\n",
    "        W = np.load(cache_file)\n",
    "        return W\n",
    "    # Else load vectors from the vector file\n",
    "    total, found = 0, 0\n",
    "    with open(vector_file) as fp:\n",
    "        for line in fp:\n",
    "            line = line.strip().split()\n",
    "            if line:\n",
    "                total += 1\n",
    "                assert len(line) == ndims+1,(\n",
    "                    \"{} vector dims {} doesn't match ndims={}\".format(line[0], len(line)-1, ndims)\n",
    "                )\n",
    "                word = line[0]\n",
    "                idx = vocab.getidx(word) \n",
    "                if idx >= vocab.offset:\n",
    "                    found += 1\n",
    "                    vecs = np.array(list(map(float, line[1:])))\n",
    "                    W[idx, :] += vecs\n",
    "    # Write to cache file\n",
    "    print(\"Found {} [{:.2f}%] vectors from {} vectors in {} with ndims={}\".format(\n",
    "        found, found * 100/vocab.size, total, vector_file, ndims))\n",
    "    norm_W = np.sqrt((W*W).sum(axis=1, keepdims=True))\n",
    "    valid_idx = norm_W.squeeze() != 0\n",
    "    W[valid_idx, :] /= norm_W[valid_idx]\n",
    "    print(\"Caching embedding with shape {} to {}\".format(W.shape, cache_file.as_posix()))\n",
    "    np.save(cache_file, W)\n",
    "    return W\n",
    "        \n",
    "                    \n",
    "                "
   ]
  },
  {
   "cell_type": "code",
   "execution_count": 10,
   "metadata": {},
   "outputs": [
    {
     "name": "stdout",
     "output_type": "stream",
     "text": [
      "CPU times: user 0 ns, sys: 8 ms, total: 8 ms\n",
      "Wall time: 4.23 ms\n"
     ]
    }
   ],
   "source": [
    "%%time\n",
    "embedding_file=\"/home/napsternxg/datadrive/Downloads/Glove/glove.6B.100d.txt\"\n",
    "cache_file=\"conll2000.glove.100.npy\"\n",
    "ndims=100\n",
    "pretrained_embeddings = load_word_vectors(embedding_file, ndims, word_vocab, cache_file)"
   ]
  },
  {
   "cell_type": "code",
   "execution_count": 11,
   "metadata": {
    "collapsed": true
   },
   "outputs": [],
   "source": [
    "def plot_losses(train_losses, eval_losses=None, plot_std=False, ax=None):\n",
    "    if ax is None:\n",
    "        ax = plt.gca()\n",
    "    for losses, color, label in zip(\n",
    "        [train_losses, eval_losses],\n",
    "        [\"0.5\", \"r\"],\n",
    "        [\"Train\", \"Eval\"],\n",
    "    ):\n",
    "        mean_loss, std_loss = zip(*losses)\n",
    "        mean_loss = np.array(mean_loss)\n",
    "        std_loss = np.array(std_loss)\n",
    "        ax.plot(\n",
    "            mean_loss, color=color, label=label,\n",
    "            linestyle=\"-\", \n",
    "        )\n",
    "        if plot_std:\n",
    "            ax.fill_between(\n",
    "                np.arange(mean_loss.shape[0]),\n",
    "                mean_loss-std_loss,\n",
    "                mean_loss+std_loss,\n",
    "                color=color,\n",
    "                alpha=0.3\n",
    "            )\n",
    "    ax.set_xlabel(\"Epochs\")\n",
    "    ax.set_ylabel(\"Mean Loss ($\\pm$ S.D.)\")\n",
    "    \n",
    "    \n",
    "def print_predictions(corpus, predictions, filename, label_vocab):\n",
    "    with open(filename, \"w+\") as fp:\n",
    "        for seq, pred in zip(corpus, predictions):\n",
    "            for (token, true_label), pred_label in zip(seq, pred):\n",
    "                pred_label = label_vocab.idx2item[pred_label]\n",
    "                print(\"{}\\t{}\\t{}\".format(token, true_label, pred_label), file=fp)\n",
    "            print(file=fp) # Add new line after each sequence"
   ]
  },
  {
   "cell_type": "code",
   "execution_count": 12,
   "metadata": {
    "collapsed": true
   },
   "outputs": [],
   "source": [
    "char_emb_size=10\n",
    "output_channels=50\n",
    "kernel_sizes=[2, 3]\n",
    "char_embedding = CharEmbedding(char_vocab.size, char_emb_size, output_channels, kernel_sizes)"
   ]
  },
  {
   "cell_type": "code",
   "execution_count": 13,
   "metadata": {},
   "outputs": [
    {
     "data": {
      "text/plain": [
       "torch.Size([1, 100])"
      ]
     },
     "execution_count": 13,
     "metadata": {},
     "output_type": "execute_result"
    }
   ],
   "source": [
    "char_embedding(Variable(torch.LongTensor([[1,1,2,3]]), requires_grad=False)).size()"
   ]
  },
  {
   "cell_type": "code",
   "execution_count": 14,
   "metadata": {
    "collapsed": true
   },
   "outputs": [],
   "source": [
    "word_emb_size=100\n",
    "char_embed_kwargs=dict(\n",
    "    vocab_size=char_vocab.size,\n",
    "    embedding_size=char_emb_size,\n",
    "    out_channels=output_channels,\n",
    "    kernel_sizes=kernel_sizes\n",
    ")\n",
    "word_char_embedding = WordCharEmbedding(\n",
    "    word_vocab.size, word_emb_size, char_embed_kwargs, dropout=0.2)"
   ]
  },
  {
   "cell_type": "code",
   "execution_count": 15,
   "metadata": {
    "collapsed": true
   },
   "outputs": [],
   "source": [
    "def charseq2varlist(X_chars):\n",
    "    return [Variable(torch.LongTensor([x]), requires_grad=False) for x in X_chars]"
   ]
  },
  {
   "cell_type": "code",
   "execution_count": 16,
   "metadata": {},
   "outputs": [
    {
     "name": "stdout",
     "output_type": "stream",
     "text": [
      "6\n",
      "6\n"
     ]
    }
   ],
   "source": [
    "print(len(train_tensors[0][0]))\n",
    "print(len(train_tensors[0][-1]))"
   ]
  },
  {
   "cell_type": "code",
   "execution_count": 17,
   "metadata": {},
   "outputs": [
    {
     "data": {
      "text/plain": [
       "[('He', 'B-NP'),\n",
       " ('talked', 'B-VP'),\n",
       " ('about', 'B-NP'),\n",
       " ('20', 'I-NP'),\n",
       " ('minutes', 'I-NP'),\n",
       " ('.', 'O')]"
      ]
     },
     "execution_count": 17,
     "metadata": {},
     "output_type": "execute_result"
    }
   ],
   "source": [
    "train_corpus[0]"
   ]
  },
  {
   "cell_type": "code",
   "execution_count": 18,
   "metadata": {},
   "outputs": [
    {
     "data": {
      "text/plain": [
       "[Variable containing:\n",
       "  1  2\n",
       " [torch.LongTensor of size 1x2], Variable containing:\n",
       "  3  4  5  6  2  7\n",
       " [torch.LongTensor of size 1x6], Variable containing:\n",
       "   4   8   9  10   3\n",
       " [torch.LongTensor of size 1x5], Variable containing:\n",
       "  11  12\n",
       " [torch.LongTensor of size 1x2], Variable containing:\n",
       "    13    14    15    10     3     2    16\n",
       " [torch.LongTensor of size 1x7], Variable containing:\n",
       "  17\n",
       " [torch.LongTensor of size 1x1]]"
      ]
     },
     "execution_count": 18,
     "metadata": {},
     "output_type": "execute_result"
    }
   ],
   "source": [
    "charseq2varlist(train_tensors[0][-1])"
   ]
  },
  {
   "cell_type": "code",
   "execution_count": 19,
   "metadata": {},
   "outputs": [
    {
     "data": {
      "text/plain": [
       "torch.Size([1, 6, 100])"
      ]
     },
     "execution_count": 19,
     "metadata": {},
     "output_type": "execute_result"
    }
   ],
   "source": [
    "word_char_embedding(\n",
    "    Variable(torch.LongTensor([train_tensors[0][0]]), requires_grad=False),\n",
    "    charseq2varlist(train_tensors[0][-1])\n",
    ").size()"
   ]
  },
  {
   "cell_type": "code",
   "execution_count": 20,
   "metadata": {},
   "outputs": [],
   "source": [
    "def assign_embeddings(embedding_module, pretrained_embeddings, fix_embedding=False):\n",
    "    embedding_module.weight.data.copy_(torch.from_numpy(pretrained_embeddings))\n",
    "    if fix_embedding:\n",
    "        embedding_module.weight.requires_grad = False"
   ]
  },
  {
   "cell_type": "code",
   "execution_count": 21,
   "metadata": {
    "collapsed": true
   },
   "outputs": [],
   "source": [
    "assign_embeddings(word_char_embedding.word_embeddings, pretrained_embeddings, fix_embedding=True)"
   ]
  },
  {
   "cell_type": "markdown",
   "metadata": {},
   "source": [
    "## Class based"
   ]
  },
  {
   "cell_type": "code",
   "execution_count": 28,
   "metadata": {
    "collapsed": true
   },
   "outputs": [],
   "source": [
    "class ModelWrapper(object):\n",
    "    def __init__(self, model,\n",
    "                 loss_function,\n",
    "                 use_cuda=False\n",
    "                ):\n",
    "        self.model = model\n",
    "        self.loss_function = loss_function\n",
    "\n",
    "        self.use_cuda = use_cuda\n",
    "        if self.use_cuda:\n",
    "            self.model.cuda()\n",
    "        \n",
    "    def _process_instance_tensors(self, instance_tensors):\n",
    "        raise NotImplementedError(\"Please define this function explicitly\")\n",
    "        \n",
    "    def zero_grad(self):\n",
    "        self.model.zero_grad()\n",
    "        \n",
    "    def get_parameters(self):\n",
    "        return self.model.paramerters()\n",
    "    \n",
    "    def set_model_mode(self, training_mode=True):\n",
    "        if training_mode:\n",
    "            self.model.train()\n",
    "        else:\n",
    "            self.model.eval()\n",
    "            \n",
    "    def save(self, filename):\n",
    "        torch.save(self.model, filename)\n",
    "        print(\"{} model saved to {}\".format(self.model.__class__, filename))\n",
    "        \n",
    "    def load(self, filename):\n",
    "        self.model = torch.load(filename)\n",
    "        if self.use_cuda:\n",
    "            self.model.cuda()\n",
    "\n",
    "    def get_instance_loss(self, instance_tensors, zero_grad=True):\n",
    "        if zero_grads:\n",
    "        ## Clear gradients before every update else memory runs out\n",
    "            self.zero_grad()\n",
    "        raise NotImplementedError(\"Please define this function explicitly\")\n",
    "        \n",
    "    def predict(self, instance_tensors):\n",
    "        raise NotImplementedError(\"Please define this function explicitly\")\n",
    "        \n",
    "    def predict_batch(self, batch_tensors):\n",
    "        predictions = []\n",
    "        for instance_tensors in batch_tensors:\n",
    "            predictions.append(self.predict(instance_tensors))\n",
    "        return predictions\n",
    "        \n",
    "        \n",
    "def get_epoch_function(model_wrapper, optimizer,\n",
    "                       use_cuda=False):\n",
    "    def perform_epoch(data_tensors, training_mode=True, batch_size=1):\n",
    "        model_wrapper.set_model_mode(training_mode)\n",
    "        step_losses = []\n",
    "        data_tensors = np.random.permutation(data_tensors)\n",
    "        n_splits = data_tensors.shape[0]//batch_size\n",
    "        for batch_tensors in np.array_split(data_tensors, n_splits):\n",
    "            #from IPython.core.debugger import Tracer; Tracer()()\n",
    "            model_wrapper.zero_grad()\n",
    "            loss = Variable(torch.FloatTensor([0.]))\n",
    "            if use_cuda:\n",
    "                loss = loss.cuda()\n",
    "            for instance_tensors in batch_tensors:\n",
    "                loss += model_wrapper.get_instance_loss(instance_tensors, zero_grad=False)\n",
    "            loss = loss/batch_tensors.shape[0] # Mean loss\n",
    "            step_losses.append(loss.data[0])\n",
    "            if training_mode:\n",
    "                ## Get gradients of model params wrt. loss\n",
    "                loss.backward()\n",
    "                ## Optimize the loss by one step\n",
    "                optimizer.step()\n",
    "        return step_losses\n",
    "    return perform_epoch\n",
    "\n",
    "def write_losses(losses, fp, title=\"train\", epoch=0):\n",
    "    for i, loss in enumerate(losses):\n",
    "        print(\"{:<10} epoch={:<3} batch={:<5} loss={:<10}\".format(\n",
    "            title, epoch, i, loss\n",
    "        ), file=fp)\n",
    "    print(\"{:<10} epoch={:<3} {:<11} mean={:<10.3f} std={:<10.3f}\".format(\n",
    "        title, epoch, \"overall\", np.mean(losses), np.std(losses)\n",
    "    ), file=fp)\n",
    "\n",
    "\n",
    "def training_wrapper(\n",
    "    model_wrapper, data_tensors,\n",
    "    eval_tensors=None,\n",
    "    optimizer=optim.SGD,\n",
    "    optimizer_kwargs=None,\n",
    "    n_epochs=10,\n",
    "    batch_size=1,\n",
    "    use_cuda=False,\n",
    "    log_file=\"training_output.log\"\n",
    "):\n",
    "    \"\"\"Wrapper to train the model\n",
    "    \"\"\"\n",
    "    if optimizer_kwargs is None:\n",
    "        optimizer_kwargs = {}\n",
    "    # Fileter out parameters which don't require a gradient\n",
    "    parameters = filter(lambda p: p.requires_grad, model_wrapper.model.parameters())\n",
    "    optimizer=optimizer(parameters, **optimizer_kwargs)\n",
    "    # Start training\n",
    "    losses = []\n",
    "    eval_losses = []\n",
    "    data_tensors = np.array(data_tensors)\n",
    "    if eval_tensors is not None:\n",
    "        eval_tensors = np.array(eval_tensors)\n",
    "    perform_epoch = get_epoch_function(\n",
    "        model_wrapper,\n",
    "        optimizer,\n",
    "        use_cuda=use_cuda)\n",
    "    with open(log_file, \"w+\") as fp:\n",
    "        for epoch in tqdm(range(n_epochs)):\n",
    "            i = epoch\n",
    "            step_losses = perform_epoch(data_tensors, batch_size=batch_size)\n",
    "            mean_loss, std_loss = np.mean(step_losses), np.std(step_losses)\n",
    "            losses.append((mean_loss, std_loss))\n",
    "            write_losses(step_losses, fp, title=\"train\", epoch=i)\n",
    "            if eval_tensors is not None:\n",
    "                step_losses = perform_epoch(eval_tensors, training_mode=False)\n",
    "                mean_loss, std_loss = np.mean(step_losses), np.std(step_losses)\n",
    "                eval_losses.append((mean_loss, std_loss))\n",
    "                write_losses(step_losses, fp, title=\"eval\", epoch=i)\n",
    "    return {\n",
    "        \"training_loss\": losses,\n",
    "        \"evaluation_loss\": eval_losses\n",
    "    }"
   ]
  },
  {
   "cell_type": "code",
   "execution_count": 29,
   "metadata": {
    "collapsed": true
   },
   "outputs": [],
   "source": [
    "class LSTMTaggerModel(ModelWrapper):\n",
    "    def __init__(self, model,\n",
    "                 loss_function,\n",
    "                 use_cuda=False):\n",
    "        self.model = model\n",
    "        self.loss_function = loss_function\n",
    "\n",
    "        self.use_cuda = use_cuda\n",
    "        if self.use_cuda:\n",
    "            #[k.cuda() for k in self.model.modules()]\n",
    "            self.model.cuda()\n",
    "        \n",
    "    def _process_instance_tensors(self, instance_tensors):\n",
    "        X, Y, X_char = instance_tensors\n",
    "        X = Variable(torch.LongTensor([X]), requires_grad=False)\n",
    "        Y = Variable(torch.LongTensor(Y), requires_grad=False)\n",
    "        X_char = charseq2varlist(X_char)\n",
    "        if self.use_cuda:\n",
    "            X = X.cuda()\n",
    "            Y = Y.cuda()\n",
    "            X_char = [t.cuda() for t in X_char]\n",
    "        return X, X_char, Y\n",
    "\n",
    "    def get_instance_loss(self, instance_tensors, zero_grad=True):\n",
    "        if zero_grad:\n",
    "            ## Clear gradients before every update else memory runs out\n",
    "            self.model.zero_grad()\n",
    "        X, X_char, Y = self._process_instance_tensors(instance_tensors)\n",
    "        #print(X.get_device(), [t.get_device() for t in X_char])\n",
    "        return self.loss_function(self.model.forward(X, X_char), Y)\n",
    "        \n",
    "    def predict(self, instance_tensors):\n",
    "        X, X_char, Y = self._process_instance_tensors(instance_tensors)\n",
    "        prediction = self.model.forward(X, X_char)\n",
    "        return prediction.data.cpu().max(1)[1].numpy().ravel()"
   ]
  },
  {
   "cell_type": "code",
   "execution_count": 30,
   "metadata": {},
   "outputs": [],
   "source": [
    "use_cuda=True\n",
    "n_embed=100\n",
    "hidden_size=20\n",
    "batch_size=10\n",
    "\n",
    "char_emb_size=10\n",
    "output_channels=50\n",
    "kernel_sizes=[2, 3]\n",
    "\n",
    "word_emb_size=100\n",
    "char_embed_kwargs=dict(\n",
    "    vocab_size=char_vocab.size,\n",
    "    embedding_size=char_emb_size,\n",
    "    out_channels=output_channels,\n",
    "    kernel_sizes=kernel_sizes\n",
    ")\n",
    "\n",
    "word_char_embedding = WordCharEmbedding(\n",
    "        word_vocab.size, word_emb_size,\n",
    "        char_embed_kwargs, dropout=0.2)\n",
    "# Assign glove embeddings\n",
    "assign_embeddings(word_char_embedding.word_embeddings, pretrained_embeddings, fix_embedding=True)\n",
    "\n",
    "model_wrapper = LSTMTaggerModel(\n",
    "    LSTMTaggerWordChar(word_char_embedding, n_embed, hidden_size, chunk_vocab.size),\n",
    "    nn.NLLLoss(), use_cuda=use_cuda)"
   ]
  },
  {
   "cell_type": "code",
   "execution_count": 31,
   "metadata": {},
   "outputs": [
    {
     "data": {
      "text/plain": [
       "Variable containing:\n",
       " 3.1258\n",
       "[torch.cuda.FloatTensor of size 1 (GPU 0)]"
      ]
     },
     "execution_count": 31,
     "metadata": {},
     "output_type": "execute_result"
    }
   ],
   "source": [
    "model_wrapper.get_instance_loss(train_tensors[0])"
   ]
  },
  {
   "cell_type": "code",
   "execution_count": 32,
   "metadata": {},
   "outputs": [
    {
     "data": {
      "text/plain": [
       "16"
      ]
     },
     "execution_count": 32,
     "metadata": {},
     "output_type": "execute_result"
    }
   ],
   "source": [
    "len(list(model_wrapper.model.parameters()))"
   ]
  },
  {
   "cell_type": "code",
   "execution_count": 33,
   "metadata": {},
   "outputs": [
    {
     "name": "stderr",
     "output_type": "stream",
     "text": [
      "100%|██████████| 5/5 [03:27<00:00, 41.72s/it]"
     ]
    },
    {
     "name": "stdout",
     "output_type": "stream",
     "text": [
      "<class 'pytorch_models.LSTMTaggerWordChar'> model saved to LSTMTaggerModel_CONLL2000\n"
     ]
    },
    {
     "name": "stderr",
     "output_type": "stream",
     "text": [
      "\n"
     ]
    }
   ],
   "source": [
    "n_epochs=5\n",
    "training_history = training_wrapper(\n",
    "    model_wrapper, train_tensors[:1000], \n",
    "    eval_tensors=dev_tensors,\n",
    "    optimizer=optim.Adam,\n",
    "    optimizer_kwargs={\n",
    "        #\"lr\": 0.01,\n",
    "        \"weight_decay\": 0.5\n",
    "    },\n",
    "    n_epochs=n_epochs,\n",
    "    batch_size=batch_size,\n",
    "    use_cuda=use_cuda,\n",
    "    log_file=\"LSTMTaggerModel_CONLL2000.log\"\n",
    ")\n",
    "model_wrapper.save(\"LSTMTaggerModel_CONLL2000\")"
   ]
  },
  {
   "cell_type": "code",
   "execution_count": 34,
   "metadata": {},
   "outputs": [
    {
     "data": {
      "text/plain": [
       "array([0, 0, 0, 0, 0, 0])"
      ]
     },
     "execution_count": 34,
     "metadata": {},
     "output_type": "execute_result"
    }
   ],
   "source": [
    "preds = model_wrapper.predict(train_tensors[0])\n",
    "preds"
   ]
  },
  {
   "cell_type": "code",
   "execution_count": 35,
   "metadata": {},
   "outputs": [
    {
     "name": "stderr",
     "output_type": "stream",
     "text": [
      "/home/napsternxg/anaconda3/lib/python3.5/site-packages/matplotlib/font_manager.py:1297: UserWarning: findfont: Font family ['sans-serif'] not found. Falling back to DejaVu Sans\n",
      "  (prop.get_family(), self.defaultFamily[fontext]))\n"
     ]
    },
    {
     "data": {
      "image/png": "[encoded data removed]",
      "text/plain": [
       "<matplotlib.figure.Figure at 0x7febb0bb86d8>"
      ]
     },
     "metadata": {},
     "output_type": "display_data"
    }
   ],
   "source": [
    "fig, ax = plt.subplots(1,1)\n",
    "plot_losses(training_history[\"training_loss\"],\n",
    "            training_history[\"evaluation_loss\"],\n",
    "            plot_std=True,\n",
    "            ax=ax)\n",
    "ax.legend()\n",
    "sns.despine(offset=5)"
   ]
  },
  {
   "cell_type": "code",
   "execution_count": 36,
   "metadata": {},
   "outputs": [
    {
     "name": "stdout",
     "output_type": "stream",
     "text": [
      "CPU times: user 2min 58s, sys: 772 ms, total: 2min 59s\n",
      "Wall time: 3min\n",
      "processed 209287 tokens with 105732 phrases; found: 209287 phrases; correct: 17128.\n",
      "accuracy:  26.02%; precision:   8.18%; recall:  16.20%; FB1:  10.87\n",
      "             ADJP: precision:   0.00%; recall:   0.00%; FB1:   0.00  0\n",
      "             ADVP: precision:   0.00%; recall:   0.00%; FB1:   0.00  0\n",
      "            CONJP: precision:   0.00%; recall:   0.00%; FB1:   0.00  0\n",
      "             INTJ: precision:   0.00%; recall:   0.00%; FB1:   0.00  0\n",
      "              LST: precision:   0.00%; recall:   0.00%; FB1:   0.00  0\n",
      "               NP: precision:   8.18%; recall:  31.45%; FB1:  12.99  209287\n",
      "               PP: precision:   0.00%; recall:   0.00%; FB1:   0.00  0\n",
      "              PRT: precision:   0.00%; recall:   0.00%; FB1:   0.00  0\n",
      "             SBAR: precision:   0.00%; recall:   0.00%; FB1:   0.00  0\n",
      "              UCP: precision:   0.00%; recall:   0.00%; FB1:   0.00  0\n",
      "               VP: precision:   0.00%; recall:   0.00%; FB1:   0.00  0\n",
      "CPU times: user 2.07 s, sys: 8 ms, total: 2.08 s\n",
      "Wall time: 2.07 s\n",
      "processed 2440 tokens with 1246 phrases; found: 2440 phrases; correct: 185.\n",
      "accuracy:  25.33%; precision:   7.58%; recall:  14.85%; FB1:  10.04\n",
      "             ADJP: precision:   0.00%; recall:   0.00%; FB1:   0.00  0\n",
      "             ADVP: precision:   0.00%; recall:   0.00%; FB1:   0.00  0\n",
      "               NP: precision:   7.58%; recall:  29.94%; FB1:  12.10  2440\n",
      "               PP: precision:   0.00%; recall:   0.00%; FB1:   0.00  0\n",
      "              PRT: precision:   0.00%; recall:   0.00%; FB1:   0.00  0\n",
      "             SBAR: precision:   0.00%; recall:   0.00%; FB1:   0.00  0\n",
      "               VP: precision:   0.00%; recall:   0.00%; FB1:   0.00  0\n",
      "CPU times: user 41.8 s, sys: 380 ms, total: 42.2 s\n",
      "Wall time: 42.5 s\n",
      "processed 47377 tokens with 23852 phrases; found: 47377 phrases; correct: 3862.\n",
      "accuracy:  26.22%; precision:   8.15%; recall:  16.19%; FB1:  10.84\n",
      "             ADJP: precision:   0.00%; recall:   0.00%; FB1:   0.00  0\n",
      "             ADVP: precision:   0.00%; recall:   0.00%; FB1:   0.00  0\n",
      "            CONJP: precision:   0.00%; recall:   0.00%; FB1:   0.00  0\n",
      "             INTJ: precision:   0.00%; recall:   0.00%; FB1:   0.00  0\n",
      "              LST: precision:   0.00%; recall:   0.00%; FB1:   0.00  0\n",
      "               NP: precision:   8.15%; recall:  31.09%; FB1:  12.92  47377\n",
      "               PP: precision:   0.00%; recall:   0.00%; FB1:   0.00  0\n",
      "              PRT: precision:   0.00%; recall:   0.00%; FB1:   0.00  0\n",
      "             SBAR: precision:   0.00%; recall:   0.00%; FB1:   0.00  0\n",
      "               VP: precision:   0.00%; recall:   0.00%; FB1:   0.00  0\n"
     ]
    }
   ],
   "source": [
    "for title, tensors, corpus in zip(\n",
    "    [\"train\", \"dev\", \"test\"],\n",
    "    [train_tensors, dev_tensors, test_tensors],\n",
    "    [train_corpus, dev_corpus, test_corpus],\n",
    "                         ):\n",
    "    %time predictions = model_wrapper.predict_batch(tensors)\n",
    "    print_predictions(corpus, predictions, \"%s.chunking.conll\" % title, chunk_vocab)\n",
    "    conll_eval([\"conlleval\", \"%s.chunking.conll\" % title])"
   ]
  },
  {
   "cell_type": "markdown",
   "metadata": {},
   "source": [
    "## CRF model"
   ]
  },
  {
   "cell_type": "code",
   "execution_count": 37,
   "metadata": {
    "collapsed": true
   },
   "outputs": [],
   "source": [
    "class BiLSTMTaggerWordCRFModel(ModelWrapper):\n",
    "    def __init__(self, model,\n",
    "                 loss_function,\n",
    "                 use_cuda=False):\n",
    "        self.model = model\n",
    "        self.loss_function = None\n",
    "\n",
    "        self.use_cuda = use_cuda\n",
    "        if self.use_cuda:\n",
    "            #[k.cuda() for k in self.model.modules()]\n",
    "            self.model.cuda()\n",
    "        \n",
    "    def _process_instance_tensors(self, instance_tensors):\n",
    "        X, Y, X_char = instance_tensors\n",
    "        X = Variable(torch.LongTensor([X]), requires_grad=False)\n",
    "        Y = torch.LongTensor(Y)\n",
    "        X_char = charseq2varlist(X_char)\n",
    "        if self.use_cuda:\n",
    "            X = X.cuda()\n",
    "            Y = Y.cuda()\n",
    "            X_char = [t.cuda() for t in X_char]\n",
    "        return X, X_char, Y\n",
    "\n",
    "    def get_instance_loss(self, instance_tensors, zero_grad=True):\n",
    "        if zero_grad:\n",
    "            ## Clear gradients before every update else memory runs out\n",
    "            self.model.zero_grad()\n",
    "        X, X_char, Y = self._process_instance_tensors(instance_tensors)\n",
    "        #print(X.get_device(), [t.get_device() for t in X_char])\n",
    "        return self.model.loss(X, X_char, Y)\n",
    "        \n",
    "    def predict(self, instance_tensors):\n",
    "        X, X_char, Y = self._process_instance_tensors(instance_tensors)\n",
    "        emissions = self.model.forward(X, X_char)\n",
    "        return self.model.crf.forward(emissions)[1]\n"
   ]
  },
  {
   "cell_type": "code",
   "execution_count": 38,
   "metadata": {
    "collapsed": true
   },
   "outputs": [],
   "source": [
    "use_cuda=True\n",
    "n_embed=100\n",
    "hidden_size=20\n",
    "batch_size=10\n",
    "\n",
    "char_emb_size=10\n",
    "output_channels=50\n",
    "kernel_sizes=[2, 3]\n",
    "\n",
    "word_emb_size=100\n",
    "char_embed_kwargs=dict(\n",
    "    vocab_size=char_vocab.size,\n",
    "    embedding_size=char_emb_size,\n",
    "    out_channels=output_channels,\n",
    "    kernel_sizes=kernel_sizes\n",
    ")\n",
    "\n",
    "word_char_embedding = WordCharEmbedding(\n",
    "        word_vocab.size, word_emb_size,\n",
    "        char_embed_kwargs, dropout=0.2)\n",
    "# Assign glove embeddings\n",
    "assign_embeddings(word_char_embedding.word_embeddings, pretrained_embeddings, fix_embedding=True)\n",
    "\n",
    "model_wrapper = BiLSTMTaggerWordCRFModel(\n",
    "    LSTMTaggerWordCharCRF(word_char_embedding, n_embed, hidden_size, chunk_vocab.size),\n",
    "    None, use_cuda=use_cuda)"
   ]
  },
  {
   "cell_type": "code",
   "execution_count": 40,
   "metadata": {},
   "outputs": [
    {
     "name": "stderr",
     "output_type": "stream",
     "text": [
      "100%|██████████| 5/5 [05:16<00:00, 63.28s/it]"
     ]
    },
    {
     "name": "stdout",
     "output_type": "stream",
     "text": [
      "<class 'pytorch_models.LSTMTaggerWordCharCRF'> model saved to BiLSTMTaggerWordCRFModel_CONLL2000\n"
     ]
    },
    {
     "name": "stderr",
     "output_type": "stream",
     "text": [
      "\n"
     ]
    }
   ],
   "source": [
    "n_epochs=5\n",
    "training_history = training_wrapper(\n",
    "    model_wrapper, train_tensors[:1000], \n",
    "    eval_tensors=dev_tensors,\n",
    "    optimizer=optim.Adam,\n",
    "    optimizer_kwargs={\n",
    "        #\"lr\": 0.01,\n",
    "        \"weight_decay\": 0.5\n",
    "    },\n",
    "    n_epochs=n_epochs,\n",
    "    batch_size=batch_size,\n",
    "    use_cuda=use_cuda,\n",
    "    log_file=\"BiLSTMTaggerWordCRFModel_CONLL2000.log\"\n",
    ")\n",
    "model_wrapper.save(\"BiLSTMTaggerWordCRFModel_CONLL2000\")"
   ]
  },
  {
   "cell_type": "code",
   "execution_count": 41,
   "metadata": {},
   "outputs": [
    {
     "name": "stderr",
     "output_type": "stream",
     "text": [
      "/home/napsternxg/anaconda3/lib/python3.5/site-packages/matplotlib/font_manager.py:1297: UserWarning: findfont: Font family ['sans-serif'] not found. Falling back to DejaVu Sans\n",
      "  (prop.get_family(), self.defaultFamily[fontext]))\n"
     ]
    },
    {
     "data": {
      "image/png": "[encoded data removed]",
      "text/plain": [
       "<matplotlib.figure.Figure at 0x7febb0dd76d8>"
      ]
     },
     "metadata": {},
     "output_type": "display_data"
    }
   ],
   "source": [
    "fig, ax = plt.subplots(1,1)\n",
    "plot_losses(training_history[\"training_loss\"],\n",
    "            training_history[\"evaluation_loss\"],\n",
    "            plot_std=True,\n",
    "            ax=ax)\n",
    "ax.legend()\n",
    "sns.despine(offset=5)"
   ]
  },
  {
   "cell_type": "code",
   "execution_count": 42,
   "metadata": {},
   "outputs": [
    {
     "name": "stdout",
     "output_type": "stream",
     "text": [
      "CPU times: user 2min 57s, sys: 11.6 s, total: 3min 9s\n",
      "Wall time: 3min 9s\n",
      "processed 209287 tokens with 105732 phrases; found: 121552 phrases; correct: 32157.\n",
      "accuracy:  47.36%; precision:  26.46%; recall:  30.41%; FB1:  28.30\n",
      "             ADJP: precision:   0.00%; recall:   0.00%; FB1:   0.00  0\n",
      "             ADVP: precision:   0.00%; recall:   0.00%; FB1:   0.00  0\n",
      "            CONJP: precision:   0.00%; recall:   0.00%; FB1:   0.00  0\n",
      "             INTJ: precision:   0.00%; recall:   0.00%; FB1:   0.00  0\n",
      "              LST: precision:   0.00%; recall:   0.00%; FB1:   0.00  35\n",
      "               NP: precision:  24.95%; recall:  38.28%; FB1:  30.21  83557\n",
      "               PP: precision:  29.80%; recall:  53.79%; FB1:  38.35  37956\n",
      "              PRT: precision:   0.00%; recall:   0.00%; FB1:   0.00  0\n",
      "             SBAR: precision:   0.00%; recall:   0.00%; FB1:   0.00  0\n",
      "              UCP: precision:   0.00%; recall:   0.00%; FB1:   0.00  0\n",
      "               VP: precision:   0.00%; recall:   0.00%; FB1:   0.00  4\n",
      "CPU times: user 2.12 s, sys: 4 ms, total: 2.13 s\n",
      "Wall time: 2.13 s\n",
      "processed 2440 tokens with 1246 phrases; found: 1425 phrases; correct: 390.\n",
      "accuracy:  47.21%; precision:  27.37%; recall:  31.30%; FB1:  29.20\n",
      "             ADJP: precision:   0.00%; recall:   0.00%; FB1:   0.00  0\n",
      "             ADVP: precision:   0.00%; recall:   0.00%; FB1:   0.00  0\n",
      "               NP: precision:  24.85%; recall:  40.13%; FB1:  30.69  998\n",
      "               PP: precision:  33.26%; recall:  55.69%; FB1:  41.64  427\n",
      "              PRT: precision:   0.00%; recall:   0.00%; FB1:   0.00  0\n",
      "             SBAR: precision:   0.00%; recall:   0.00%; FB1:   0.00  0\n",
      "               VP: precision:   0.00%; recall:   0.00%; FB1:   0.00  0\n",
      "CPU times: user 43.2 s, sys: 92 ms, total: 43.3 s\n",
      "Wall time: 43.2 s\n",
      "processed 47377 tokens with 23852 phrases; found: 27605 phrases; correct: 7425.\n",
      "accuracy:  47.62%; precision:  26.90%; recall:  31.13%; FB1:  28.86\n",
      "             ADJP: precision:   0.00%; recall:   0.00%; FB1:   0.00  0\n",
      "             ADVP: precision:   0.00%; recall:   0.00%; FB1:   0.00  0\n",
      "            CONJP: precision:   0.00%; recall:   0.00%; FB1:   0.00  0\n",
      "             INTJ: precision:   0.00%; recall:   0.00%; FB1:   0.00  0\n",
      "              LST: precision:   0.00%; recall:   0.00%; FB1:   0.00  8\n",
      "               NP: precision:  25.32%; recall:  38.60%; FB1:  30.58  18938\n",
      "               PP: precision:  30.37%; recall:  54.67%; FB1:  39.05  8659\n",
      "              PRT: precision:   0.00%; recall:   0.00%; FB1:   0.00  0\n",
      "             SBAR: precision:   0.00%; recall:   0.00%; FB1:   0.00  0\n",
      "               VP: precision:   0.00%; recall:   0.00%; FB1:   0.00  0\n"
     ]
    }
   ],
   "source": [
    "for title, tensors, corpus in zip(\n",
    "    [\"train\", \"dev\", \"test\"],\n",
    "    [train_tensors, dev_tensors, test_tensors],\n",
    "    [train_corpus, dev_corpus, test_corpus],\n",
    "                         ):\n",
    "    %time predictions = model_wrapper.predict_batch(tensors)\n",
    "    print_predictions(corpus, predictions, \"%s.chunking.conll\" % title, chunk_vocab)\n",
    "    conll_eval([\"conlleval\", \"%s.chunking.conll\" % title]) "
   ]
  },
  {
   "cell_type": "code",
   "execution_count": 43,
   "metadata": {},
   "outputs": [
    {
     "name": "stdout",
     "output_type": "stream",
     "text": [
      "      class  accuracy  precision  recall  f1-score  support\n",
      "0   overall     47.36      26.46   30.41     28.30        0\n",
      "1      ADJP      0.00       0.00    0.00      0.00        0\n",
      "2      ADVP      0.00       0.00    0.00      0.00        0\n",
      "3     CONJP      0.00       0.00    0.00      0.00        0\n",
      "4      INTJ      0.00       0.00    0.00      0.00        0\n",
      "5       LST      0.00       0.00    0.00      0.00       35\n",
      "6        NP      0.00      24.95   38.28     30.21    83557\n",
      "7        PP      0.00      29.80   53.79     38.35    37956\n",
      "8       PRT      0.00       0.00    0.00      0.00        0\n",
      "9      SBAR      0.00       0.00    0.00      0.00        0\n",
      "10      UCP      0.00       0.00    0.00      0.00        0\n",
      "11       VP      0.00       0.00    0.00      0.00        4\n"
     ]
    }
   ],
   "source": [
    "temp_io = io.StringIO()\n",
    "conll_eval([\"conlleval\", \"%s.chunking.conll\" % \"train\"], outstream=temp_io)\n",
    "report = temp_io.getvalue()\n",
    "print(conll_classification_report_to_df(report))\n",
    "temp_io.close()"
   ]
  },
  {
   "cell_type": "code",
   "execution_count": null,
   "metadata": {
    "collapsed": true
   },
   "outputs": [],
   "source": []
  }
 ],
 "metadata": {
  "kernelspec": {
   "display_name": "Python [default]",
   "language": "python",
   "name": "python3"
  },
  "language_info": {
   "codemirror_mode": {
    "name": "ipython",
    "version": 3
   },
   "file_extension": ".py",
   "mimetype": "text/x-python",
   "name": "python",
   "nbconvert_exporter": "python",
   "pygments_lexer": "ipython3",
   "version": "3.5.2"
  }
 },
 "nbformat": 4,
 "nbformat_minor": 2
}
