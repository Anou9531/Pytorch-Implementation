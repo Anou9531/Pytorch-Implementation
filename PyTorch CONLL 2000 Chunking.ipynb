{
 "cells": [
  {
   "cell_type": "code",
   "execution_count": 1,
   "metadata": {},
   "outputs": [],
   "source": [
    "%matplotlib inline\n",
    "\n",
    "import torch\n",
    "from torch.autograd import Variable\n",
    "import torch.nn as nn\n",
    "import torch.nn.functional as F\n",
    "import torch.optim as optim\n",
    "\n",
    "torch.manual_seed(1)\n",
    "\n",
    "import numpy as np\n",
    "\n",
    "from tqdm import tqdm\n",
    "\n",
    "import pandas as pd\n",
    "\n",
    "import matplotlib.pyplot as plt\n",
    "import seaborn as sns\n",
    "\n",
    "from pytorch_utils import *\n",
    "from pytorch_models import *\n",
    "from utils import load_sequences, print_predictions\n",
    "from conlleval import main as conll_eval\n",
    "\n",
    "\n",
    "sns.set_context(\"poster\")\n",
    "sns.set_style(\"ticks\")"
   ]
  },
  {
   "cell_type": "code",
   "execution_count": 2,
   "metadata": {
    "collapsed": true
   },
   "outputs": [],
   "source": [
    "TRAIN_CORPUS=\"data/conll2000/train.txt\"\n",
    "TEST_CORPUS=\"data/conll2000/test.txt\""
   ]
  },
  {
   "cell_type": "code",
   "execution_count": 3,
   "metadata": {},
   "outputs": [
    {
     "name": "stdout",
     "output_type": "stream",
     "text": [
      "Total items in train corpus: 8836\n",
      "Total items in dev corpus: 100\n",
      "Total items in test corpus: 2012\n"
     ]
    }
   ],
   "source": [
    "train_corpus = load_sequences(TRAIN_CORPUS, sep=\" \", col_ids=(0, -1))\n",
    "train_corpus, dev_corpus = train_corpus[100:], train_corpus[:100]\n",
    "print(\"Total items in train corpus: %s\" % len(train_corpus))\n",
    "print(\"Total items in dev corpus: %s\" % len(dev_corpus))\n",
    "test_corpus = load_sequences(TEST_CORPUS, sep=\" \", col_ids=(0, -1))\n",
    "print(\"Total items in test corpus: %s\" % len(test_corpus))"
   ]
  },
  {
   "cell_type": "code",
   "execution_count": 4,
   "metadata": {},
   "outputs": [
    {
     "data": {
      "text/plain": [
       "[('He', 'B-NP'),\n",
       " ('talked', 'B-VP'),\n",
       " ('about', 'B-NP'),\n",
       " ('20', 'I-NP'),\n",
       " ('minutes', 'I-NP'),\n",
       " ('.', 'O')]"
      ]
     },
     "execution_count": 4,
     "metadata": {},
     "output_type": "execute_result"
    }
   ],
   "source": [
    "train_corpus[0]"
   ]
  },
  {
   "cell_type": "code",
   "execution_count": 5,
   "metadata": {
    "collapsed": true
   },
   "outputs": [],
   "source": [
    "def create_vocab(data, vocabs, char_vocab, word_idx=0):\n",
    "    n_vocabs = len(vocabs)\n",
    "    for sent in data:\n",
    "        for token_tags in sent:\n",
    "            for vocab_id in range(n_vocabs):\n",
    "                vocabs[vocab_id].add(token_tags[vocab_id])\n",
    "            char_vocab.batch_add(token_tags[word_idx])\n",
    "    print(\"Created vocabs: %s, chars[%s]\" % (\", \".join(\n",
    "        \"{}[{}]\".format(vocab.name, vocab.size)\n",
    "        for vocab in vocabs\n",
    "    ), char_vocab.size))"
   ]
  },
  {
   "cell_type": "code",
   "execution_count": 6,
   "metadata": {},
   "outputs": [
    {
     "name": "stdout",
     "output_type": "stream",
     "text": [
      "Created vocabs: words[21590], ner_tags[23], chars[81]\n"
     ]
    }
   ],
   "source": [
    "word_vocab = Vocab(\"words\", UNK=\"UNK\")\n",
    "char_vocab = Vocab(\"chars\", UNK=\"<U>\")\n",
    "ner_vocab = Vocab(\"ner_tags\")\n",
    "\n",
    "create_vocab(train_corpus+dev_corpus+test_corpus, [word_vocab, ner_vocab], char_vocab)"
   ]
  },
  {
   "cell_type": "code",
   "execution_count": 7,
   "metadata": {
    "collapsed": true
   },
   "outputs": [],
   "source": [
    "def data2tensors(data, vocabs, char_vocab, word_idx=0, column_ids=(0, -1)):\n",
    "    vocabs = [vocabs[idx] for idx in column_ids]\n",
    "    n_vocabs = len(vocabs)\n",
    "    tensors = []\n",
    "    char_tensors = []\n",
    "    for sent in data:\n",
    "        sent_vecs = [[] for i in range(n_vocabs+1)] # Last is for char vecs\n",
    "        char_vecs = []\n",
    "        for token_tags in sent:\n",
    "            for vocab_id in range(n_vocabs):\n",
    "                sent_vecs[vocab_id].append(\n",
    "                    vocabs[vocab_id].getidx(token_tags[vocab_id])\n",
    "                )\n",
    "            sent_vecs[-1].append(\n",
    "                [char_vocab.getidx(c) for c in token_tags[word_idx]]\n",
    "            )\n",
    "        tensors.append(sent_vecs)\n",
    "    return tensors"
   ]
  },
  {
   "cell_type": "code",
   "execution_count": 8,
   "metadata": {},
   "outputs": [
    {
     "name": "stdout",
     "output_type": "stream",
     "text": [
      "Train: 8836, Dev: 100, Test: 2012\n"
     ]
    }
   ],
   "source": [
    "train_tensors = data2tensors(train_corpus, [word_vocab, ner_vocab], char_vocab)\n",
    "dev_tensors = data2tensors(dev_corpus, [word_vocab, ner_vocab], char_vocab)\n",
    "test_tensors = data2tensors(test_corpus, [word_vocab, ner_vocab], char_vocab)\n",
    "print(\"Train: {}, Dev: {}, Test: {}\".format(\n",
    "    len(train_tensors),\n",
    "    len(dev_tensors),\n",
    "    len(test_tensors),\n",
    "))"
   ]
  },
  {
   "cell_type": "code",
   "execution_count": 9,
   "metadata": {
    "collapsed": true
   },
   "outputs": [],
   "source": [
    "def plot_losses(train_losses, eval_losses=None, plot_std=False, ax=None):\n",
    "    if ax is None:\n",
    "        ax = plt.gca()\n",
    "    for losses, color, label in zip(\n",
    "        [train_losses, eval_losses],\n",
    "        [\"0.5\", \"r\"],\n",
    "        [\"Train\", \"Eval\"],\n",
    "    ):\n",
    "        mean_loss, std_loss = zip(*losses)\n",
    "        mean_loss = np.array(mean_loss)\n",
    "        std_loss = np.array(std_loss)\n",
    "        ax.plot(\n",
    "            mean_loss, color=color, label=label,\n",
    "            linestyle=\"-\", \n",
    "        )\n",
    "        if plot_std:\n",
    "            ax.fill_between(\n",
    "                np.arange(mean_loss.shape[0]),\n",
    "                mean_loss-std_loss,\n",
    "                mean_loss+std_loss,\n",
    "                color=color,\n",
    "                alpha=0.3\n",
    "            )\n",
    "    ax.set_xlabel(\"Epochs\")\n",
    "    ax.set_ylabel(\"Mean Loss ($\\pm$ S.D.)\")\n",
    "    \n",
    "    \n",
    "def print_predictions(corpus, predictions, filename, label_vocab):\n",
    "    with open(filename, \"w+\") as fp:\n",
    "        for seq, pred in zip(corpus, predictions):\n",
    "            for (token, true_label), pred_label in zip(seq, pred):\n",
    "                pred_label = label_vocab.idx2item[pred_label]\n",
    "                print(\"{}\\t{}\\t{}\".format(token, true_label, pred_label), file=fp)\n",
    "            print(file=fp) # Add new line after each sequence"
   ]
  },
  {
   "cell_type": "code",
   "execution_count": 10,
   "metadata": {
    "collapsed": true
   },
   "outputs": [],
   "source": [
    "char_emb_size=10\n",
    "output_channels=25\n",
    "kernel_sizes=[2, 3]\n",
    "char_embedding = CharEmbedding(char_vocab.size, char_emb_size, output_channels, kernel_sizes)"
   ]
  },
  {
   "cell_type": "code",
   "execution_count": 11,
   "metadata": {},
   "outputs": [
    {
     "data": {
      "text/plain": [
       "Variable containing:\n",
       "\n",
       "Columns 0 to 9 \n",
       " 0.0000  3.4354  0.0000  0.0000  2.6089  0.0000  2.2081  0.0000  3.0193  0.3947\n",
       "\n",
       "Columns 10 to 19 \n",
       " 0.0000  0.0000  0.0000  0.0000  0.8294  0.0000  0.0000  0.0000  0.0000  0.0000\n",
       "\n",
       "Columns 20 to 29 \n",
       " 0.0000  0.0000  0.0000  2.2640  0.0000  2.1755  5.2433  1.7468  0.0000  0.0000\n",
       "\n",
       "Columns 30 to 39 \n",
       " 0.0000  4.2533  0.0000  0.0000  0.0000  0.0000  0.0000  2.0339  1.0762  4.5157\n",
       "\n",
       "Columns 40 to 49 \n",
       " 1.7377  0.0000  0.0000  0.2469  0.0000  0.0000  0.3585  5.5818  0.0000  0.0000\n",
       "[torch.FloatTensor of size 1x50]"
      ]
     },
     "execution_count": 11,
     "metadata": {},
     "output_type": "execute_result"
    }
   ],
   "source": [
    "char_embedding(Variable(torch.LongTensor([[1,1,2,3]]), requires_grad=False))"
   ]
  },
  {
   "cell_type": "code",
   "execution_count": 12,
   "metadata": {
    "collapsed": true
   },
   "outputs": [],
   "source": [
    "word_emb_size=50\n",
    "char_embed_kwargs=dict(\n",
    "    vocab_size=char_vocab.size,\n",
    "    embedding_size=char_emb_size,\n",
    "    out_channels=output_channels,\n",
    "    kernel_sizes=kernel_sizes\n",
    ")\n",
    "word_char_embedding = WordCharEmbedding(\n",
    "    word_vocab.size, word_emb_size, char_embed_kwargs, dropout=0.2)"
   ]
  },
  {
   "cell_type": "code",
   "execution_count": 13,
   "metadata": {
    "collapsed": true
   },
   "outputs": [],
   "source": [
    "def charseq2varlist(X_chars):\n",
    "    return [Variable(torch.LongTensor([x]), requires_grad=False) for x in X_chars]"
   ]
  },
  {
   "cell_type": "code",
   "execution_count": 14,
   "metadata": {},
   "outputs": [
    {
     "name": "stdout",
     "output_type": "stream",
     "text": [
      "6\n",
      "6\n"
     ]
    }
   ],
   "source": [
    "print(len(train_tensors[0][0]))\n",
    "print(len(train_tensors[0][-1]))"
   ]
  },
  {
   "cell_type": "code",
   "execution_count": 15,
   "metadata": {},
   "outputs": [
    {
     "data": {
      "text/plain": [
       "[('He', 'B-NP'),\n",
       " ('talked', 'B-VP'),\n",
       " ('about', 'B-NP'),\n",
       " ('20', 'I-NP'),\n",
       " ('minutes', 'I-NP'),\n",
       " ('.', 'O')]"
      ]
     },
     "execution_count": 15,
     "metadata": {},
     "output_type": "execute_result"
    }
   ],
   "source": [
    "train_corpus[0]"
   ]
  },
  {
   "cell_type": "code",
   "execution_count": 16,
   "metadata": {},
   "outputs": [
    {
     "data": {
      "text/plain": [
       "[Variable containing:\n",
       "  1  2\n",
       " [torch.LongTensor of size 1x2], Variable containing:\n",
       "  3  4  5  6  2  7\n",
       " [torch.LongTensor of size 1x6], Variable containing:\n",
       "   4   8   9  10   3\n",
       " [torch.LongTensor of size 1x5], Variable containing:\n",
       "  11  12\n",
       " [torch.LongTensor of size 1x2], Variable containing:\n",
       "    13    14    15    10     3     2    16\n",
       " [torch.LongTensor of size 1x7], Variable containing:\n",
       "  17\n",
       " [torch.LongTensor of size 1x1]]"
      ]
     },
     "execution_count": 16,
     "metadata": {},
     "output_type": "execute_result"
    }
   ],
   "source": [
    "charseq2varlist(train_tensors[0][-1])"
   ]
  },
  {
   "cell_type": "code",
   "execution_count": 17,
   "metadata": {},
   "outputs": [
    {
     "data": {
      "text/plain": [
       "torch.Size([1, 6, 50])"
      ]
     },
     "execution_count": 17,
     "metadata": {},
     "output_type": "execute_result"
    }
   ],
   "source": [
    "word_char_embedding(\n",
    "    Variable(torch.LongTensor([train_tensors[0][0]]), requires_grad=False),\n",
    "    charseq2varlist(train_tensors[0][-1])\n",
    ").size()"
   ]
  },
  {
   "cell_type": "markdown",
   "metadata": {},
   "source": [
    "## Class based"
   ]
  },
  {
   "cell_type": "code",
   "execution_count": 18,
   "metadata": {
    "collapsed": true
   },
   "outputs": [],
   "source": [
    "class ModelWrapper(object):\n",
    "    def __init__(self, model,\n",
    "                 loss_function,\n",
    "                 use_cuda=False\n",
    "                ):\n",
    "        self.model = model\n",
    "        self.loss_function = loss_function\n",
    "\n",
    "        self.use_cuda = use_cuda\n",
    "        if self.use_cuda:\n",
    "            self.model.cuda()\n",
    "        \n",
    "    def _process_instance_tensors(self, instance_tensors):\n",
    "        raise NotImplementedError(\"Please define this function explicitly\")\n",
    "        \n",
    "    def zero_grad(self):\n",
    "        self.model.zero_grad()\n",
    "        \n",
    "    def get_parameters(self):\n",
    "        return self.model.paramerters()\n",
    "    \n",
    "    def set_model_mode(self, training_mode=True):\n",
    "        if training_mode:\n",
    "            self.model.train()\n",
    "        else:\n",
    "            self.model.eval()\n",
    "            \n",
    "    def save(self, filename):\n",
    "        torch.save(self.model, filename)\n",
    "        print(\"{} model saved to {}\".format(self.model.__class__, filename))\n",
    "        \n",
    "    def load(self, filename):\n",
    "        self.model = torch.load(filename)\n",
    "        if self.use_cuda:\n",
    "            self.model.cuda()\n",
    "\n",
    "    def get_instance_loss(self, instance_tensors, zero_grad=True):\n",
    "        if zero_grads:\n",
    "        ## Clear gradients before every update else memory runs out\n",
    "            self.zero_grad()\n",
    "        raise NotImplementedError(\"Please define this function explicitly\")\n",
    "        \n",
    "    def predict(self, instance_tensors):\n",
    "        raise NotImplementedError(\"Please define this function explicitly\")\n",
    "        \n",
    "    def predict_batch(self, batch_tensors):\n",
    "        predictions = []\n",
    "        for instance_tensors in batch_tensors:\n",
    "            predictions.append(self.predict(instance_tensors))\n",
    "        return predictions\n",
    "        \n",
    "        \n",
    "def get_epoch_function(model_wrapper, optimizer,\n",
    "                       use_cuda=False):\n",
    "    def perform_epoch(data_tensors, training_mode=True, batch_size=1):\n",
    "        model_wrapper.set_model_mode(training_mode)\n",
    "        step_losses = []\n",
    "        data_tensors = np.random.permutation(data_tensors)\n",
    "        n_splits = data_tensors.shape[0]//batch_size\n",
    "        for batch_tensors in np.array_split(data_tensors, n_splits):\n",
    "            #from IPython.core.debugger import Tracer; Tracer()()\n",
    "            model_wrapper.zero_grad()\n",
    "            loss = Variable(torch.FloatTensor([0.]))\n",
    "            if use_cuda:\n",
    "                loss = loss.cuda()\n",
    "            for instance_tensors in batch_tensors:\n",
    "                loss += model_wrapper.get_instance_loss(instance_tensors, zero_grad=False)\n",
    "            loss = loss/batch_tensors.shape[0] # Mean loss\n",
    "            step_losses.append(loss.data[0])\n",
    "            if training_mode:\n",
    "                ## Get gradients of model params wrt. loss\n",
    "                loss.backward()\n",
    "                ## Optimize the loss by one step\n",
    "                optimizer.step()\n",
    "        return step_losses\n",
    "    return perform_epoch\n",
    "\n",
    "def training_wrapper(\n",
    "    model_wrapper, data_tensors,\n",
    "    eval_tensors=None,\n",
    "    optimizer=optim.SGD,\n",
    "    optimizer_kwargs=None,\n",
    "    n_epochs=10,\n",
    "    batch_size=1,\n",
    "    use_cuda=False):\n",
    "    \"\"\"Wrapper to train the model\n",
    "    \"\"\"\n",
    "    if optimizer_kwargs is None:\n",
    "        optimizer_kwargs = {}\n",
    "    optimizer=optimizer(model_wrapper.model.parameters(), **optimizer_kwargs)\n",
    "    # Start training\n",
    "    losses = []\n",
    "    eval_losses = []\n",
    "    data_tensors = np.array(data_tensors)\n",
    "    if eval_tensors is not None:\n",
    "        eval_tensors = np.array(eval_tensors)\n",
    "    perform_epoch = get_epoch_function(\n",
    "        model_wrapper,\n",
    "        optimizer,\n",
    "        use_cuda=use_cuda)\n",
    "    for epoch in tqdm(range(n_epochs)):\n",
    "        step_losses = perform_epoch(data_tensors, batch_size=batch_size)\n",
    "        losses.append((np.mean(step_losses), np.std(step_losses)))\n",
    "        if eval_tensors is not None:\n",
    "            step_losses = perform_epoch(eval_tensors, training_mode=False)\n",
    "            eval_losses.append((np.mean(step_losses), np.std(step_losses)))\n",
    "    return {\n",
    "        \"training_loss\": losses,\n",
    "        \"evaluation_loss\": eval_losses\n",
    "    }        "
   ]
  },
  {
   "cell_type": "code",
   "execution_count": 19,
   "metadata": {
    "collapsed": true
   },
   "outputs": [],
   "source": [
    "class LSTMTaggerModel(ModelWrapper):\n",
    "    def __init__(self, model,\n",
    "                 loss_function,\n",
    "                 use_cuda=False):\n",
    "        self.model = model\n",
    "        self.loss_function = loss_function\n",
    "\n",
    "        self.use_cuda = use_cuda\n",
    "        if self.use_cuda:\n",
    "            #[k.cuda() for k in self.model.modules()]\n",
    "            self.model.cuda()\n",
    "        \n",
    "    def _process_instance_tensors(self, instance_tensors):\n",
    "        X, Y, X_char = instance_tensors\n",
    "        X = Variable(torch.LongTensor([X]), requires_grad=False)\n",
    "        Y = Variable(torch.LongTensor(Y), requires_grad=False)\n",
    "        X_char = charseq2varlist(X_char)\n",
    "        if self.use_cuda:\n",
    "            X = X.cuda()\n",
    "            Y = Y.cuda()\n",
    "            X_char = [t.cuda() for t in X_char]\n",
    "        return X, X_char, Y\n",
    "\n",
    "    def get_instance_loss(self, instance_tensors, zero_grad=True):\n",
    "        if zero_grad:\n",
    "            ## Clear gradients before every update else memory runs out\n",
    "            self.model.zero_grad()\n",
    "        X, X_char, Y = self._process_instance_tensors(instance_tensors)\n",
    "        #print(X.get_device(), [t.get_device() for t in X_char])\n",
    "        return self.loss_function(self.model.forward(X, X_char), Y)\n",
    "        \n",
    "    def predict(self, instance_tensors):\n",
    "        X, X_char, Y = self._process_instance_tensors(instance_tensors)\n",
    "        prediction = self.model.forward(X, X_char)\n",
    "        return prediction.data.cpu().max(1)[1].numpy().ravel()"
   ]
  },
  {
   "cell_type": "code",
   "execution_count": 20,
   "metadata": {
    "collapsed": true
   },
   "outputs": [],
   "source": [
    "n_epochs=5\n",
    "use_cuda=True\n",
    "n_embed=50\n",
    "hidden_size=20\n",
    "batch_size=10\n",
    "\n",
    "char_emb_size=10\n",
    "output_channels=25\n",
    "kernel_sizes=[2, 3]\n",
    "\n",
    "word_emb_size=50\n",
    "char_embed_kwargs=dict(\n",
    "    vocab_size=char_vocab.size,\n",
    "    embedding_size=char_emb_size,\n",
    "    out_channels=output_channels,\n",
    "    kernel_sizes=kernel_sizes\n",
    ")\n",
    "\n",
    "word_char_embedding = WordCharEmbedding(\n",
    "        word_vocab.size, word_emb_size,\n",
    "        char_embed_kwargs, dropout=0.2)\n",
    "\n",
    "model_wrapper = LSTMTaggerModel(\n",
    "    LSTMTaggerWordChar(word_char_embedding, n_embed, hidden_size, ner_vocab.size),\n",
    "    nn.NLLLoss(), use_cuda=use_cuda)"
   ]
  },
  {
   "cell_type": "code",
   "execution_count": 21,
   "metadata": {},
   "outputs": [
    {
     "data": {
      "text/plain": [
       "Variable containing:\n",
       " 3.1844\n",
       "[torch.cuda.FloatTensor of size 1 (GPU 0)]"
      ]
     },
     "execution_count": 21,
     "metadata": {},
     "output_type": "execute_result"
    }
   ],
   "source": [
    "model_wrapper.get_instance_loss(train_tensors[0])"
   ]
  },
  {
   "cell_type": "code",
   "execution_count": 22,
   "metadata": {},
   "outputs": [
    {
     "data": {
      "text/plain": [
       "16"
      ]
     },
     "execution_count": 22,
     "metadata": {},
     "output_type": "execute_result"
    }
   ],
   "source": [
    "len(list(model_wrapper.model.parameters()))"
   ]
  },
  {
   "cell_type": "code",
   "execution_count": 23,
   "metadata": {},
   "outputs": [
    {
     "name": "stderr",
     "output_type": "stream",
     "text": [
      "100%|██████████| 5/5 [30:50<00:00, 367.10s/it]"
     ]
    },
    {
     "name": "stdout",
     "output_type": "stream",
     "text": [
      "<class 'pytorch_models.LSTMTaggerWordChar'> model saved to LSTMTaggerModel_CONLL2000\n"
     ]
    },
    {
     "name": "stderr",
     "output_type": "stream",
     "text": [
      "\n"
     ]
    }
   ],
   "source": [
    "training_history = training_wrapper(\n",
    "    model_wrapper, train_tensors, \n",
    "    eval_tensors=dev_tensors,\n",
    "    optimizer=optim.Adam,\n",
    "    optimizer_kwargs={\n",
    "        #\"lr\": 0.01,\n",
    "        \"weight_decay\": 0.5\n",
    "    },\n",
    "    n_epochs=n_epochs,\n",
    "    batch_size=batch_size,\n",
    "    use_cuda=use_cuda)\n",
    "model_wrapper.save(\"LSTMTaggerModel_CONLL2000\")"
   ]
  },
  {
   "cell_type": "code",
   "execution_count": 24,
   "metadata": {},
   "outputs": [
    {
     "data": {
      "text/plain": [
       "array([2, 2, 2, 2, 2, 2])"
      ]
     },
     "execution_count": 24,
     "metadata": {},
     "output_type": "execute_result"
    }
   ],
   "source": [
    "preds = model_wrapper.predict(train_tensors[0])\n",
    "preds"
   ]
  },
  {
   "cell_type": "code",
   "execution_count": 25,
   "metadata": {},
   "outputs": [
    {
     "name": "stderr",
     "output_type": "stream",
     "text": [
      "/home/napsternxg/anaconda3/lib/python3.5/site-packages/matplotlib/font_manager.py:1297: UserWarning: findfont: Font family ['sans-serif'] not found. Falling back to DejaVu Sans\n",
      "  (prop.get_family(), self.defaultFamily[fontext]))\n"
     ]
    },
    {
     "data": {
      "image/png": "[encoded data removed]",
      "text/plain": [
       "<matplotlib.figure.Figure at 0x7f1bddbf7208>"
      ]
     },
     "metadata": {},
     "output_type": "display_data"
    }
   ],
   "source": [
    "fig, ax = plt.subplots(1,1)\n",
    "plot_losses(training_history[\"training_loss\"],\n",
    "            training_history[\"evaluation_loss\"],\n",
    "            plot_std=True,\n",
    "            ax=ax)\n",
    "ax.legend()\n",
    "sns.despine(offset=5)"
   ]
  },
  {
   "cell_type": "code",
   "execution_count": 26,
   "metadata": {},
   "outputs": [
    {
     "name": "stdout",
     "output_type": "stream",
     "text": [
      "CPU times: user 2min 58s, sys: 276 ms, total: 2min 58s\n",
      "Wall time: 2min 58s\n",
      "processed 209287 tokens with 105732 phrases; found: 8836 phrases; correct: 33.\n",
      "accuracy:  29.90%; precision:   0.37%; recall:   0.03%; FB1:   0.06\n",
      "             ADJP: precision:   0.00%; recall:   0.00%; FB1:   0.00  0\n",
      "             ADVP: precision:   0.00%; recall:   0.00%; FB1:   0.00  0\n",
      "            CONJP: precision:   0.00%; recall:   0.00%; FB1:   0.00  0\n",
      "             INTJ: precision:   0.00%; recall:   0.00%; FB1:   0.00  0\n",
      "              LST: precision:   0.00%; recall:   0.00%; FB1:   0.00  0\n",
      "               NP: precision:   0.37%; recall:   0.06%; FB1:   0.10  8836\n",
      "               PP: precision:   0.00%; recall:   0.00%; FB1:   0.00  0\n",
      "              PRT: precision:   0.00%; recall:   0.00%; FB1:   0.00  0\n",
      "             SBAR: precision:   0.00%; recall:   0.00%; FB1:   0.00  0\n",
      "              UCP: precision:   0.00%; recall:   0.00%; FB1:   0.00  0\n",
      "               VP: precision:   0.00%; recall:   0.00%; FB1:   0.00  0\n",
      "CPU times: user 2.12 s, sys: 4 ms, total: 2.12 s\n",
      "Wall time: 2.59 s\n",
      "processed 2440 tokens with 1246 phrases; found: 100 phrases; correct: 0.\n",
      "accuracy:  30.12%; precision:   0.00%; recall:   0.00%; FB1:   0.00\n",
      "             ADJP: precision:   0.00%; recall:   0.00%; FB1:   0.00  0\n",
      "             ADVP: precision:   0.00%; recall:   0.00%; FB1:   0.00  0\n",
      "               NP: precision:   0.00%; recall:   0.00%; FB1:   0.00  100\n",
      "               PP: precision:   0.00%; recall:   0.00%; FB1:   0.00  0\n",
      "              PRT: precision:   0.00%; recall:   0.00%; FB1:   0.00  0\n",
      "             SBAR: precision:   0.00%; recall:   0.00%; FB1:   0.00  0\n",
      "               VP: precision:   0.00%; recall:   0.00%; FB1:   0.00  0\n",
      "CPU times: user 40 s, sys: 64 ms, total: 40.1 s\n",
      "Wall time: 40.1 s\n",
      "processed 47377 tokens with 23852 phrases; found: 2012 phrases; correct: 15.\n",
      "accuracy:  30.34%; precision:   0.75%; recall:   0.06%; FB1:   0.12\n",
      "             ADJP: precision:   0.00%; recall:   0.00%; FB1:   0.00  0\n",
      "             ADVP: precision:   0.00%; recall:   0.00%; FB1:   0.00  0\n",
      "            CONJP: precision:   0.00%; recall:   0.00%; FB1:   0.00  0\n",
      "             INTJ: precision:   0.00%; recall:   0.00%; FB1:   0.00  0\n",
      "              LST: precision:   0.00%; recall:   0.00%; FB1:   0.00  0\n",
      "               NP: precision:   0.75%; recall:   0.12%; FB1:   0.21  2012\n",
      "               PP: precision:   0.00%; recall:   0.00%; FB1:   0.00  0\n",
      "              PRT: precision:   0.00%; recall:   0.00%; FB1:   0.00  0\n",
      "             SBAR: precision:   0.00%; recall:   0.00%; FB1:   0.00  0\n",
      "               VP: precision:   0.00%; recall:   0.00%; FB1:   0.00  0\n"
     ]
    }
   ],
   "source": [
    "for title, tensors, corpus in zip(\n",
    "    [\"train\", \"dev\", \"test\"],\n",
    "    [train_tensors, dev_tensors, test_tensors],\n",
    "    [train_corpus, dev_corpus, test_corpus],\n",
    "                         ):\n",
    "    %time predictions = model_wrapper.predict_batch(tensors)\n",
    "    print_predictions(corpus, predictions, \"%s.chunking.conll\" % title, ner_vocab)\n",
    "    conll_eval([\"conlleval\", \"%s.chunking.conll\" % title])"
   ]
  },
  {
   "cell_type": "markdown",
   "metadata": {},
   "source": [
    "## CRF model"
   ]
  },
  {
   "cell_type": "code",
   "execution_count": 27,
   "metadata": {
    "collapsed": true
   },
   "outputs": [],
   "source": [
    "class BiLSTMTaggerWordCRFModel(ModelWrapper):\n",
    "    def __init__(self, model,\n",
    "                 loss_function,\n",
    "                 use_cuda=False):\n",
    "        self.model = model\n",
    "        self.loss_function = None\n",
    "\n",
    "        self.use_cuda = use_cuda\n",
    "        if self.use_cuda:\n",
    "            #[k.cuda() for k in self.model.modules()]\n",
    "            self.model.cuda()\n",
    "        \n",
    "    def _process_instance_tensors(self, instance_tensors):\n",
    "        X, Y, X_char = instance_tensors\n",
    "        X = Variable(torch.LongTensor([X]), requires_grad=False)\n",
    "        Y = torch.LongTensor(Y)\n",
    "        X_char = charseq2varlist(X_char)\n",
    "        if self.use_cuda:\n",
    "            X = X.cuda()\n",
    "            Y = Y.cuda()\n",
    "            X_char = [t.cuda() for t in X_char]\n",
    "        return X, X_char, Y\n",
    "\n",
    "    def get_instance_loss(self, instance_tensors, zero_grad=True):\n",
    "        if zero_grad:\n",
    "            ## Clear gradients before every update else memory runs out\n",
    "            self.model.zero_grad()\n",
    "        X, X_char, Y = self._process_instance_tensors(instance_tensors)\n",
    "        #print(X.get_device(), [t.get_device() for t in X_char])\n",
    "        return self.model.loss(X, X_char, Y)\n",
    "        \n",
    "    def predict(self, instance_tensors):\n",
    "        X, X_char, Y = self._process_instance_tensors(instance_tensors)\n",
    "        emissions = self.model.forward(X, X_char)\n",
    "        return self.model.crf.forward(emissions)[1]\n"
   ]
  },
  {
   "cell_type": "code",
   "execution_count": 28,
   "metadata": {
    "collapsed": true
   },
   "outputs": [],
   "source": [
    "n_epochs=5\n",
    "use_cuda=True\n",
    "n_embed=50\n",
    "hidden_size=20\n",
    "batch_size=10\n",
    "\n",
    "char_emb_size=10\n",
    "output_channels=25\n",
    "kernel_sizes=[2, 3]\n",
    "\n",
    "word_emb_size=50\n",
    "char_embed_kwargs=dict(\n",
    "    vocab_size=char_vocab.size,\n",
    "    embedding_size=char_emb_size,\n",
    "    out_channels=output_channels,\n",
    "    kernel_sizes=kernel_sizes\n",
    ")\n",
    "\n",
    "word_char_embedding = WordCharEmbedding(\n",
    "        word_vocab.size, word_emb_size,\n",
    "        char_embed_kwargs, dropout=0.2)\n",
    "\n",
    "model_wrapper = BiLSTMTaggerWordCRFModel(\n",
    "    LSTMTaggerWordCharCRF(word_char_embedding, n_embed, hidden_size, ner_vocab.size),\n",
    "    None, use_cuda=use_cuda)"
   ]
  },
  {
   "cell_type": "code",
   "execution_count": 29,
   "metadata": {},
   "outputs": [
    {
     "name": "stderr",
     "output_type": "stream",
     "text": [
      "100%|██████████| 5/5 [45:06<00:00, 540.50s/it]"
     ]
    },
    {
     "name": "stdout",
     "output_type": "stream",
     "text": [
      "<class 'pytorch_models.LSTMTaggerWordCharCRF'> model saved to BiLSTMTaggerWordCRFModel_CONLL2000\n"
     ]
    },
    {
     "name": "stderr",
     "output_type": "stream",
     "text": [
      "\n"
     ]
    }
   ],
   "source": [
    "training_history = training_wrapper(\n",
    "    model_wrapper, train_tensors, \n",
    "    eval_tensors=dev_tensors,\n",
    "    optimizer=optim.Adam,\n",
    "    optimizer_kwargs={\n",
    "        #\"lr\": 0.01,\n",
    "        \"weight_decay\": 0.5\n",
    "    },\n",
    "    n_epochs=n_epochs,\n",
    "    batch_size=batch_size,\n",
    "    use_cuda=use_cuda)\n",
    "model_wrapper.save(\"BiLSTMTaggerWordCRFModel_CONLL2000\")"
   ]
  },
  {
   "cell_type": "code",
   "execution_count": 30,
   "metadata": {},
   "outputs": [
    {
     "name": "stderr",
     "output_type": "stream",
     "text": [
      "/home/napsternxg/anaconda3/lib/python3.5/site-packages/matplotlib/font_manager.py:1297: UserWarning: findfont: Font family ['sans-serif'] not found. Falling back to DejaVu Sans\n",
      "  (prop.get_family(), self.defaultFamily[fontext]))\n"
     ]
    },
    {
     "data": {
      "image/png": "[encoded data removed]",
      "text/plain": [
       "<matplotlib.figure.Figure at 0x7f1bc8544898>"
      ]
     },
     "metadata": {},
     "output_type": "display_data"
    }
   ],
   "source": [
    "fig, ax = plt.subplots(1,1)\n",
    "plot_losses(training_history[\"training_loss\"],\n",
    "            training_history[\"evaluation_loss\"],\n",
    "            plot_std=True,\n",
    "            ax=ax)\n",
    "ax.legend()\n",
    "sns.despine(offset=5)"
   ]
  },
  {
   "cell_type": "code",
   "execution_count": 31,
   "metadata": {},
   "outputs": [
    {
     "name": "stdout",
     "output_type": "stream",
     "text": [
      "CPU times: user 3min 6s, sys: 456 ms, total: 3min 6s\n",
      "Wall time: 3min 7s\n",
      "processed 209287 tokens with 105732 phrases; found: 81889 phrases; correct: 41478.\n",
      "accuracy:  66.40%; precision:  50.65%; recall:  39.23%; FB1:  44.21\n",
      "             ADJP: precision:   0.00%; recall:   0.00%; FB1:   0.00  0\n",
      "             ADVP: precision:   0.00%; recall:   0.00%; FB1:   0.00  0\n",
      "            CONJP: precision:   0.00%; recall:   0.00%; FB1:   0.00  0\n",
      "             INTJ: precision:   0.00%; recall:   0.00%; FB1:   0.00  0\n",
      "              LST: precision:   0.00%; recall:   0.00%; FB1:   0.00  0\n",
      "               NP: precision:  43.10%; recall:  42.88%; FB1:  42.99  54179\n",
      "               PP: precision:  65.89%; recall:  84.86%; FB1:  74.18  27079\n",
      "              PRT: precision:   0.00%; recall:   0.00%; FB1:   0.00  0\n",
      "             SBAR: precision:   0.00%; recall:   0.00%; FB1:   0.00  0\n",
      "              UCP: precision:   0.00%; recall:   0.00%; FB1:   0.00  0\n",
      "               VP: precision:  44.69%; recall:   1.33%; FB1:   2.58  631\n",
      "CPU times: user 2.1 s, sys: 12 ms, total: 2.11 s\n",
      "Wall time: 2.12 s\n",
      "processed 2440 tokens with 1246 phrases; found: 986 phrases; correct: 485.\n",
      "accuracy:  65.08%; precision:  49.19%; recall:  38.92%; FB1:  43.46\n",
      "             ADJP: precision:   0.00%; recall:   0.00%; FB1:   0.00  0\n",
      "             ADVP: precision:   0.00%; recall:   0.00%; FB1:   0.00  0\n",
      "               NP: precision:  41.10%; recall:  42.23%; FB1:  41.66  635\n",
      "               PP: precision:  64.52%; recall:  86.27%; FB1:  73.83  341\n",
      "              PRT: precision:   0.00%; recall:   0.00%; FB1:   0.00  0\n",
      "             SBAR: precision:   0.00%; recall:   0.00%; FB1:   0.00  0\n",
      "               VP: precision:  40.00%; recall:   1.59%; FB1:   3.07  10\n",
      "CPU times: user 42.1 s, sys: 128 ms, total: 42.3 s\n",
      "Wall time: 42.5 s\n",
      "processed 47377 tokens with 23852 phrases; found: 18522 phrases; correct: 9556.\n",
      "accuracy:  67.29%; precision:  51.59%; recall:  40.06%; FB1:  45.10\n",
      "             ADJP: precision:   0.00%; recall:   0.00%; FB1:   0.00  0\n",
      "             ADVP: precision:   0.00%; recall:   0.00%; FB1:   0.00  0\n",
      "            CONJP: precision:   0.00%; recall:   0.00%; FB1:   0.00  0\n",
      "             INTJ: precision:   0.00%; recall:   0.00%; FB1:   0.00  0\n",
      "              LST: precision:   0.00%; recall:   0.00%; FB1:   0.00  0\n",
      "               NP: precision:  44.07%; recall:  43.62%; FB1:  43.85  12295\n",
      "               PP: precision:  67.24%; recall:  84.74%; FB1:  74.99  6063\n",
      "              PRT: precision:   0.00%; recall:   0.00%; FB1:   0.00  0\n",
      "             SBAR: precision:   0.00%; recall:   0.00%; FB1:   0.00  0\n",
      "               VP: precision:  36.59%; recall:   1.29%; FB1:   2.49  164\n"
     ]
    }
   ],
   "source": [
    "for title, tensors, corpus in zip(\n",
    "    [\"train\", \"dev\", \"test\"],\n",
    "    [train_tensors, dev_tensors, test_tensors],\n",
    "    [train_corpus, dev_corpus, test_corpus],\n",
    "                         ):\n",
    "    %time predictions = model_wrapper.predict_batch(tensors)\n",
    "    print_predictions(corpus, predictions, \"%s.chunking.conll\" % title, ner_vocab)\n",
    "    conll_eval([\"conlleval\", \"%s.chunking.conll\" % title]) "
   ]
  },
  {
   "cell_type": "code",
   "execution_count": null,
   "metadata": {
    "collapsed": true
   },
   "outputs": [],
   "source": []
  }
 ],
 "metadata": {
  "kernelspec": {
   "display_name": "Python [default]",
   "language": "python",
   "name": "python3"
  },
  "language_info": {
   "codemirror_mode": {
    "name": "ipython",
    "version": 3
   },
   "file_extension": ".py",
   "mimetype": "text/x-python",
   "name": "python",
   "nbconvert_exporter": "python",
   "pygments_lexer": "ipython3",
   "version": "3.5.2"
  }
 },
 "nbformat": 4,
 "nbformat_minor": 2
}
