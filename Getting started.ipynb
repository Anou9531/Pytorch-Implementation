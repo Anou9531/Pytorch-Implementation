{
 "cells": [
  {
   "cell_type": "code",
   "execution_count": 1,
   "metadata": {
    "collapsed": true
   },
   "outputs": [],
   "source": [
    "%matplotlib inline\n",
    "import numpy as np\n",
    "\n",
    "import matplotlib.pyplot as plt\n",
    "\n",
    "import torch\n",
    "from torch.autograd import Variable\n",
    "import torch.nn as nn"
   ]
  },
  {
   "cell_type": "code",
   "execution_count": 2,
   "metadata": {
    "collapsed": false
   },
   "outputs": [
    {
     "name": "stdout",
     "output_type": "stream",
     "text": [
      "(1000,) (1000,)\n"
     ]
    }
   ],
   "source": [
    "X = np.arange(-5,5,0.01)\n",
    "y = 4*X**3 + 2**X + 3\n",
    "print(X.shape, y.shape)"
   ]
  },
  {
   "cell_type": "code",
   "execution_count": 3,
   "metadata": {
    "collapsed": false
   },
   "outputs": [
    {
     "data": {
      "text/plain": [
       "[<matplotlib.lines.Line2D at 0x7f252f9b9320>]"
      ]
     },
     "execution_count": 3,
     "metadata": {},
     "output_type": "execute_result"
    },
    {
     "data": {
      "image/png": "[encoded data removed]",
      "text/plain": [
       "<matplotlib.figure.Figure at 0x7f25800df198>"
      ]
     },
     "metadata": {},
     "output_type": "display_data"
    }
   ],
   "source": [
    "plt.plot(X,y)"
   ]
  },
  {
   "cell_type": "markdown",
   "metadata": {},
   "source": [
    "### Creating variable from numpy arrays\n",
    "Similar to tensorflow placeholders"
   ]
  },
  {
   "cell_type": "code",
   "execution_count": 4,
   "metadata": {
    "collapsed": false
   },
   "outputs": [
    {
     "data": {
      "text/plain": [
       "Variable containing:\n",
       "-5.0000\n",
       "-4.9900\n",
       "-4.9800\n",
       "-4.9700\n",
       "[torch.DoubleTensor of size 4x1]"
      ]
     },
     "execution_count": 4,
     "metadata": {},
     "output_type": "execute_result"
    }
   ],
   "source": [
    "batch = Variable(torch.from_numpy(X[:4, np.newaxis])) \n",
    "batch"
   ]
  },
  {
   "cell_type": "markdown",
   "metadata": {},
   "source": [
    "### Concatanating along axis"
   ]
  },
  {
   "cell_type": "code",
   "execution_count": 5,
   "metadata": {
    "collapsed": false
   },
   "outputs": [
    {
     "data": {
      "text/plain": [
       "Variable containing:\n",
       "-5.0000 -5.0000\n",
       "-4.9900 -4.9900\n",
       "-4.9800 -4.9800\n",
       "-4.9700 -4.9700\n",
       "[torch.DoubleTensor of size 4x2]"
      ]
     },
     "execution_count": 5,
     "metadata": {},
     "output_type": "execute_result"
    }
   ],
   "source": [
    "torch.cat((batch, batch), 1)"
   ]
  },
  {
   "cell_type": "markdown",
   "metadata": {},
   "source": [
    "### Convert tensors to type float for easy usage in nn layers"
   ]
  },
  {
   "cell_type": "code",
   "execution_count": 6,
   "metadata": {
    "collapsed": false
   },
   "outputs": [
    {
     "data": {
      "text/plain": [
       "Variable containing:\n",
       "-5.0000\n",
       "-4.9900\n",
       "-4.9800\n",
       "-4.9700\n",
       "[torch.FloatTensor of size 4x1]"
      ]
     },
     "execution_count": 6,
     "metadata": {},
     "output_type": "execute_result"
    }
   ],
   "source": [
    "batch = Variable(torch.from_numpy(X[:4, np.newaxis])).float() ## Converting to float is important for GPU\n",
    "batch"
   ]
  },
  {
   "cell_type": "markdown",
   "metadata": {},
   "source": [
    "## Matix multiplication as Layer operation"
   ]
  },
  {
   "cell_type": "code",
   "execution_count": 7,
   "metadata": {
    "collapsed": false
   },
   "outputs": [
    {
     "data": {
      "text/plain": [
       "Variable containing:\n",
       "-2.5177 -1.7919 -2.4977\n",
       "-2.5135 -1.7896 -2.4947\n",
       "-2.5094 -1.7872 -2.4916\n",
       "-2.5052 -1.7849 -2.4886\n",
       "[torch.FloatTensor of size 4x3]"
      ]
     },
     "execution_count": 7,
     "metadata": {},
     "output_type": "execute_result"
    }
   ],
   "source": [
    "nn.Linear(1,3)(batch)"
   ]
  },
  {
   "cell_type": "markdown",
   "metadata": {},
   "source": [
    "## Do the same for target"
   ]
  },
  {
   "cell_type": "code",
   "execution_count": 8,
   "metadata": {
    "collapsed": false
   },
   "outputs": [
    {
     "data": {
      "text/plain": [
       "Variable containing:\n",
       "-496.9688\n",
       "-493.9745\n",
       "-490.9923\n",
       "-488.0220\n",
       "[torch.FloatTensor of size 4x1]"
      ]
     },
     "execution_count": 8,
     "metadata": {},
     "output_type": "execute_result"
    }
   ],
   "source": [
    "target = Variable(torch.from_numpy(y[:4, np.newaxis])).float()\n",
    "target"
   ]
  },
  {
   "cell_type": "markdown",
   "metadata": {},
   "source": [
    "### Broadcasting surrogate"
   ]
  },
  {
   "cell_type": "code",
   "execution_count": 9,
   "metadata": {
    "collapsed": false
   },
   "outputs": [
    {
     "data": {
      "text/plain": [
       "Variable containing:\n",
       " 0  0  0\n",
       "[torch.FloatTensor of size 1x3]"
      ]
     },
     "execution_count": 9,
     "metadata": {},
     "output_type": "execute_result"
    }
   ],
   "source": [
    "hidden = Variable(torch.zeros(1,3))\n",
    "hidden"
   ]
  },
  {
   "cell_type": "code",
   "execution_count": 10,
   "metadata": {
    "collapsed": false
   },
   "outputs": [
    {
     "data": {
      "text/plain": [
       "Variable containing:\n",
       " 0.1454  0.2194 -0.2428\n",
       "[torch.FloatTensor of size 1x3]"
      ]
     },
     "execution_count": 10,
     "metadata": {},
     "output_type": "execute_result"
    }
   ],
   "source": [
    "h = nn.Linear(3,3)(hidden)\n",
    "h"
   ]
  },
  {
   "cell_type": "code",
   "execution_count": 11,
   "metadata": {
    "collapsed": false
   },
   "outputs": [
    {
     "data": {
      "text/plain": [
       "Variable containing:\n",
       "-2.4399  2.8048 -3.9366\n",
       "-2.4362  2.7988 -3.9279\n",
       "-2.4325  2.7927 -3.9192\n",
       "-2.4288  2.7866 -3.9105\n",
       "[torch.FloatTensor of size 4x3]"
      ]
     },
     "execution_count": 11,
     "metadata": {},
     "output_type": "execute_result"
    }
   ],
   "source": [
    "x = nn.Linear(1,3)(batch)\n",
    "x"
   ]
  },
  {
   "cell_type": "code",
   "execution_count": 12,
   "metadata": {
    "collapsed": false
   },
   "outputs": [
    {
     "name": "stdout",
     "output_type": "stream",
     "text": [
      "inconsistent tensor size at /data/users/soumith/miniconda2/conda-bld/pytorch-cuda80-0.1.6_1485185046107/work/torch/lib/TH/generic/THTensorMath.c:601\n"
     ]
    }
   ],
   "source": [
    "try:\n",
    "    x + h ## Will give error\n",
    "except RuntimeError as e:\n",
    "    print(e)"
   ]
  },
  {
   "cell_type": "code",
   "execution_count": 13,
   "metadata": {
    "collapsed": false
   },
   "outputs": [
    {
     "data": {
      "text/plain": [
       "Variable containing:\n",
       " 0.1454  0.2194 -0.2428\n",
       " 0.1454  0.2194 -0.2428\n",
       " 0.1454  0.2194 -0.2428\n",
       " 0.1454  0.2194 -0.2428\n",
       "[torch.FloatTensor of size 4x3]"
      ]
     },
     "execution_count": 13,
     "metadata": {},
     "output_type": "execute_result"
    }
   ],
   "source": [
    "h.expand_as(x) ## This makes h same size as x and compatible for addition"
   ]
  },
  {
   "cell_type": "code",
   "execution_count": 14,
   "metadata": {
    "collapsed": false
   },
   "outputs": [
    {
     "data": {
      "text/plain": [
       "Variable containing:\n",
       "-2.2945  3.0242 -4.1794\n",
       "-2.2908  3.0182 -4.1707\n",
       "-2.2871  3.0121 -4.1620\n",
       "-2.2834  3.0060 -4.1533\n",
       "[torch.FloatTensor of size 4x3]"
      ]
     },
     "execution_count": 14,
     "metadata": {},
     "output_type": "execute_result"
    }
   ],
   "source": [
    "x + h.expand_as(x) ## Finally"
   ]
  },
  {
   "cell_type": "markdown",
   "metadata": {},
   "source": [
    "### Getting the size of the tensor of variable"
   ]
  },
  {
   "cell_type": "code",
   "execution_count": 15,
   "metadata": {
    "collapsed": false
   },
   "outputs": [
    {
     "data": {
      "text/plain": [
       "torch.Size([4, 3])"
      ]
     },
     "execution_count": 15,
     "metadata": {},
     "output_type": "execute_result"
    }
   ],
   "source": [
    "x.size()"
   ]
  },
  {
   "cell_type": "code",
   "execution_count": 16,
   "metadata": {
    "collapsed": false
   },
   "outputs": [
    {
     "data": {
      "text/plain": [
       "4"
      ]
     },
     "execution_count": 16,
     "metadata": {},
     "output_type": "execute_result"
    }
   ],
   "source": [
    "x.size(0)"
   ]
  },
  {
   "cell_type": "code",
   "execution_count": 17,
   "metadata": {
    "collapsed": false
   },
   "outputs": [
    {
     "data": {
      "text/plain": [
       "(4, 3)"
      ]
     },
     "execution_count": 17,
     "metadata": {},
     "output_type": "execute_result"
    }
   ],
   "source": [
    "x.size()[0], x.size()[1], "
   ]
  },
  {
   "cell_type": "code",
   "execution_count": 18,
   "metadata": {
    "collapsed": false
   },
   "outputs": [
    {
     "data": {
      "text/plain": [
       "True"
      ]
     },
     "execution_count": 18,
     "metadata": {},
     "output_type": "execute_result"
    }
   ],
   "source": [
    "isinstance(x.size(), tuple)"
   ]
  },
  {
   "cell_type": "code",
   "execution_count": 19,
   "metadata": {
    "collapsed": false
   },
   "outputs": [
    {
     "data": {
      "text/plain": [
       "Variable containing:\n",
       "-2.4399  2.8048 -3.9366\n",
       "-2.4362  2.7988 -3.9279\n",
       "-2.4325  2.7927 -3.9192\n",
       "-2.4288  2.7866 -3.9105\n",
       "[torch.FloatTensor of size 4x3]"
      ]
     },
     "execution_count": 19,
     "metadata": {},
     "output_type": "execute_result"
    }
   ],
   "source": [
    "x"
   ]
  },
  {
   "cell_type": "markdown",
   "metadata": {},
   "source": [
    "## Get data-tensor inside a variable"
   ]
  },
  {
   "cell_type": "code",
   "execution_count": 20,
   "metadata": {
    "collapsed": false
   },
   "outputs": [
    {
     "data": {
      "text/plain": [
       "\n",
       "-2.4399  2.8048 -3.9366\n",
       "-2.4362  2.7988 -3.9279\n",
       "-2.4325  2.7927 -3.9192\n",
       "-2.4288  2.7866 -3.9105\n",
       "[torch.FloatTensor of size 4x3]"
      ]
     },
     "execution_count": 20,
     "metadata": {},
     "output_type": "execute_result"
    }
   ],
   "source": [
    "x.data"
   ]
  },
  {
   "cell_type": "code",
   "execution_count": 21,
   "metadata": {
    "collapsed": false
   },
   "outputs": [
    {
     "name": "stdout",
     "output_type": "stream",
     "text": [
      "Numpy conversion happens only on tensors and not variables.\n",
      "numpy\n"
     ]
    }
   ],
   "source": [
    "try:\n",
    "    x.numpy()\n",
    "except AttributeError as e:\n",
    "    print(\"Numpy conversion happens only on tensors and not variables.\")\n",
    "    print(e)"
   ]
  },
  {
   "cell_type": "code",
   "execution_count": 22,
   "metadata": {
    "collapsed": false
   },
   "outputs": [
    {
     "data": {
      "text/plain": [
       "array([[-2.43992019,  2.80484176, -3.93660831],\n",
       "       [-2.43620563,  2.79876256, -3.9279108 ],\n",
       "       [-2.43249106,  2.79268384, -3.91921329],\n",
       "       [-2.4287765 ,  2.78660488, -3.91051579]], dtype=float32)"
      ]
     },
     "execution_count": 22,
     "metadata": {},
     "output_type": "execute_result"
    }
   ],
   "source": [
    "x.data.numpy() ## succeeds"
   ]
  },
  {
   "cell_type": "markdown",
   "metadata": {},
   "source": [
    "## Simple linear regression"
   ]
  },
  {
   "cell_type": "code",
   "execution_count": 23,
   "metadata": {
    "collapsed": true
   },
   "outputs": [],
   "source": [
    "np.random.seed(1337)\n",
    "X = np.random.randn(1000,1)*4\n",
    "W = np.array([0.5,])\n",
    "bias = -1.68"
   ]
  },
  {
   "cell_type": "code",
   "execution_count": 24,
   "metadata": {
    "collapsed": true
   },
   "outputs": [],
   "source": [
    "y_true = np.dot(X, W) + bias\n",
    "y = y_true + np.random.randn(X.shape[0])"
   ]
  },
  {
   "cell_type": "code",
   "execution_count": 25,
   "metadata": {
    "collapsed": false
   },
   "outputs": [
    {
     "data": {
      "text/plain": [
       "<matplotlib.legend.Legend at 0x7f252c83b518>"
      ]
     },
     "execution_count": 25,
     "metadata": {},
     "output_type": "execute_result"
    },
    {
     "data": {
      "image/png": "[encoded data removed]",
      "text/plain": [
       "<matplotlib.figure.Figure at 0x7f252f967be0>"
      ]
     },
     "metadata": {},
     "output_type": "display_data"
    }
   ],
   "source": [
    "plt.scatter(X, y, s=1, label=\"data\")\n",
    "plt.scatter(X, y_true, s=1, color='r', label=\"true\")\n",
    "plt.legend()"
   ]
  },
  {
   "cell_type": "code",
   "execution_count": 26,
   "metadata": {
    "collapsed": true
   },
   "outputs": [],
   "source": [
    "def get_variable_from_np(X):\n",
    "    return Variable(torch.from_numpy(X)).float()\n",
    "\n",
    "class LinearRegression(nn.Module):\n",
    "    def __init__(self, input_size, output_size):\n",
    "        super(LinearRegression, self).__init__()\n",
    "        self.x2o = nn.Linear(input_size, output_size)\n",
    "        \n",
    "    def forward(self, X):\n",
    "        return self.x2o(X)"
   ]
  },
  {
   "cell_type": "code",
   "execution_count": 27,
   "metadata": {
    "collapsed": false
   },
   "outputs": [
    {
     "data": {
      "text/plain": [
       "Variable containing:\n",
       "-2.8127\n",
       "-1.9611\n",
       "-1.2873\n",
       "-7.0203\n",
       " 0.8267\n",
       "-8.0451\n",
       "-2.2290\n",
       " 1.3489\n",
       " 6.1953\n",
       "-5.4829\n",
       "[torch.FloatTensor of size 10x1]"
      ]
     },
     "execution_count": 27,
     "metadata": {},
     "output_type": "execute_result"
    }
   ],
   "source": [
    "batch_size = 10\n",
    "batch = get_variable_from_np(X[:batch_size])\n",
    "batch"
   ]
  },
  {
   "cell_type": "code",
   "execution_count": 28,
   "metadata": {
    "collapsed": false
   },
   "outputs": [],
   "source": [
    "model = LinearRegression(1, 1)"
   ]
  },
  {
   "cell_type": "code",
   "execution_count": 29,
   "metadata": {
    "collapsed": false
   },
   "outputs": [
    {
     "data": {
      "text/plain": [
       "Variable containing:\n",
       "-0.3634\n",
       "-0.2134\n",
       "-0.0947\n",
       "-1.1047\n",
       " 0.2777\n",
       "-1.2852\n",
       "-0.2606\n",
       " 0.3697\n",
       " 1.2235\n",
       "-0.8338\n",
       "[torch.FloatTensor of size 10x1]"
      ]
     },
     "execution_count": 29,
     "metadata": {},
     "output_type": "execute_result"
    }
   ],
   "source": [
    "y_pred = model.forward(batch)\n",
    "y_pred"
   ]
  },
  {
   "cell_type": "code",
   "execution_count": 30,
   "metadata": {
    "collapsed": false
   },
   "outputs": [
    {
     "data": {
      "text/plain": [
       "<matplotlib.legend.Legend at 0x7f252c749fd0>"
      ]
     },
     "execution_count": 30,
     "metadata": {},
     "output_type": "execute_result"
    },
    {
     "data": {
      "image/png": "[encoded data removed]",
      "text/plain": [
       "<matplotlib.figure.Figure at 0x7f252f919f60>"
      ]
     },
     "metadata": {},
     "output_type": "display_data"
    }
   ],
   "source": [
    "batch = get_variable_from_np(X[:])\n",
    "y_pred = model.forward(batch)\n",
    "y_pred_np = y_pred.squeeze().data.numpy()\n",
    "plt.scatter(X, y, s=1, label=\"data\")\n",
    "plt.scatter(X, y_true, s=1, color='r', label=\"true\")\n",
    "plt.scatter(X, y_pred_np, s=1, color='k', alpha=0.5, label=\"fit\")\n",
    "plt.legend()"
   ]
  },
  {
   "cell_type": "markdown",
   "metadata": {},
   "source": [
    "### Define loss criterion and optimizer"
   ]
  },
  {
   "cell_type": "code",
   "execution_count": 31,
   "metadata": {
    "collapsed": false
   },
   "outputs": [],
   "source": [
    "criterion = nn.MSELoss()\n",
    "optimizer = torch.optim.SGD(model.parameters(), lr=0.001, momentum=0.9)\n",
    "losses = []"
   ]
  },
  {
   "cell_type": "markdown",
   "metadata": {},
   "source": [
    "## Train the model"
   ]
  },
  {
   "cell_type": "code",
   "execution_count": 32,
   "metadata": {
    "collapsed": false
   },
   "outputs": [
    {
     "name": "stdout",
     "output_type": "stream",
     "text": [
      "Loss at epoch [9]: 4.496\n",
      "Loss at epoch [19]: 3.292\n",
      "Loss at epoch [29]: 1.980\n",
      "Loss at epoch [39]: 1.496\n",
      "Loss at epoch [49]: 1.491\n",
      "Loss at epoch [59]: 1.008\n",
      "Loss at epoch [69]: 1.075\n",
      "Loss at epoch [79]: 0.758\n",
      "Loss at epoch [89]: 1.242\n",
      "Loss at epoch [99]: 1.871\n"
     ]
    },
    {
     "data": {
      "text/plain": [
       "<matplotlib.text.Text at 0x7f252c7725f8>"
      ]
     },
     "execution_count": 32,
     "metadata": {},
     "output_type": "execute_result"
    },
    {
     "data": {
      "image/png": "[encoded data removed]",
      "text/plain": [
       "<matplotlib.figure.Figure at 0x7f252c791160>"
      ]
     },
     "metadata": {},
     "output_type": "display_data"
    }
   ],
   "source": [
    "batch_size = 10\n",
    "epochs = 100\n",
    "print_every = 10\n",
    "\n",
    "for i in range(epochs):\n",
    "    loss = 0\n",
    "    optimizer.zero_grad() # Important for each epoch\n",
    "    idx = np.random.randint(X.shape[0], size=batch_size)\n",
    "    batch = get_variable_from_np(X[idx])\n",
    "    target = get_variable_from_np(y[idx])\n",
    "    output = model.forward(batch)\n",
    "    loss += criterion(output, target)\n",
    "    loss.backward() # Calculate the gradients\n",
    "    optimizer.step() # Updates the parameters of the model\n",
    "    if (i+1) % print_every == 0:\n",
    "        print(\"Loss at epoch [%s]: %.3f\" % (i, loss.data[0]))\n",
    "    losses.append(loss.data[0])\n",
    "    \n",
    "plt.plot(losses, '-or')\n",
    "plt.xlabel(\"Epoch\")\n",
    "plt.xlabel(\"Loss\")"
   ]
  },
  {
   "cell_type": "code",
   "execution_count": 33,
   "metadata": {
    "collapsed": false
   },
   "outputs": [
    {
     "data": {
      "text/plain": [
       "<matplotlib.legend.Legend at 0x7f252c100ac8>"
      ]
     },
     "execution_count": 33,
     "metadata": {},
     "output_type": "execute_result"
    },
    {
     "data": {
      "image/png": "[encoded data removed]",
      "text/plain": [
       "<matplotlib.figure.Figure at 0x7f252f931048>"
      ]
     },
     "metadata": {},
     "output_type": "display_data"
    }
   ],
   "source": [
    "batch = get_variable_from_np(X[:])\n",
    "y_pred = model.forward(batch)\n",
    "y_pred_np = y_pred.squeeze().data.numpy()\n",
    "plt.scatter(X, y, s=1, label=\"data\")\n",
    "plt.scatter(X, y_true, s=1, color='r', label=\"true\")\n",
    "plt.scatter(X, y_pred_np, s=1, color='k', alpha=0.5, label=\"fit\")\n",
    "plt.legend()"
   ]
  },
  {
   "cell_type": "code",
   "execution_count": 34,
   "metadata": {
    "collapsed": false
   },
   "outputs": [
    {
     "data": {
      "text/plain": [
       "[Parameter containing:\n",
       "  0.5226\n",
       " [torch.FloatTensor of size 1x1], Parameter containing:\n",
       " -1.5220\n",
       " [torch.FloatTensor of size 1]]"
      ]
     },
     "execution_count": 34,
     "metadata": {},
     "output_type": "execute_result"
    }
   ],
   "source": [
    "list(model.x2o.parameters())"
   ]
  },
  {
   "cell_type": "code",
   "execution_count": 35,
   "metadata": {
    "collapsed": false
   },
   "outputs": [
    {
     "data": {
      "text/plain": [
       "Parameter containing:\n",
       " 0.5226\n",
       "[torch.FloatTensor of size 1x1]"
      ]
     },
     "execution_count": 35,
     "metadata": {},
     "output_type": "execute_result"
    }
   ],
   "source": [
    "model.x2o.weight"
   ]
  },
  {
   "cell_type": "code",
   "execution_count": 36,
   "metadata": {
    "collapsed": false
   },
   "outputs": [
    {
     "data": {
      "text/plain": [
       "Parameter containing:\n",
       "-1.5220\n",
       "[torch.FloatTensor of size 1]"
      ]
     },
     "execution_count": 36,
     "metadata": {},
     "output_type": "execute_result"
    }
   ],
   "source": [
    "model.x2o.bias"
   ]
  },
  {
   "cell_type": "code",
   "execution_count": 37,
   "metadata": {
    "collapsed": false
   },
   "outputs": [
    {
     "name": "stdout",
     "output_type": "stream",
     "text": [
      "Model W: 0.523, True W: 0.500\n",
      "Model bias: -1.522, True bias: -1.680\n"
     ]
    }
   ],
   "source": [
    "print(\"Model W: %.3f, True W: %.3f\" % (model.x2o.weight.data.numpy(), W))\n",
    "print(\"Model bias: %.3f, True bias: %.3f\" % (model.x2o.bias.data.numpy(), bias))"
   ]
  },
  {
   "cell_type": "markdown",
   "metadata": {
    "collapsed": true
   },
   "source": [
    "## Running on CUDA"
   ]
  },
  {
   "cell_type": "code",
   "execution_count": 38,
   "metadata": {
    "collapsed": true
   },
   "outputs": [],
   "source": [
    "batch = Variable(torch.randn(10,3))\n",
    "target = Variable(torch.randn(10,1))\n",
    "\n",
    "no_gpu_model = LinearRegression(input_size=3, output_size=1)\n"
   ]
  },
  {
   "cell_type": "code",
   "execution_count": 39,
   "metadata": {
    "collapsed": false
   },
   "outputs": [
    {
     "data": {
      "text/plain": [
       "torch.Size([10, 1])"
      ]
     },
     "execution_count": 39,
     "metadata": {},
     "output_type": "execute_result"
    }
   ],
   "source": [
    "no_gpu_model.forward(batch).size()"
   ]
  },
  {
   "cell_type": "code",
   "execution_count": 40,
   "metadata": {
    "collapsed": false
   },
   "outputs": [
    {
     "data": {
      "text/plain": [
       "True"
      ]
     },
     "execution_count": 40,
     "metadata": {},
     "output_type": "execute_result"
    }
   ],
   "source": [
    "torch.cuda.is_available()"
   ]
  },
  {
   "cell_type": "code",
   "execution_count": 41,
   "metadata": {
    "collapsed": false
   },
   "outputs": [
    {
     "name": "stdout",
     "output_type": "stream",
     "text": [
      "addmm_ received an invalid combination of arguments - got (int, int, torch.FloatTensor, torch.cuda.FloatTensor), but expected one of:\n",
      " * (torch.FloatTensor mat1, torch.FloatTensor mat2)\n",
      " * (torch.SparseFloatTensor mat1, torch.FloatTensor mat2)\n",
      " * (float beta, torch.FloatTensor mat1, torch.FloatTensor mat2)\n",
      " * (float alpha, torch.FloatTensor mat1, torch.FloatTensor mat2)\n",
      " * (float beta, torch.SparseFloatTensor mat1, torch.FloatTensor mat2)\n",
      " * (float alpha, torch.SparseFloatTensor mat1, torch.FloatTensor mat2)\n",
      " * (float beta, float alpha, torch.FloatTensor mat1, torch.FloatTensor mat2)\n",
      "      didn't match because some of the arguments have invalid types: (\u001b[32;1mint\u001b[0m, \u001b[32;1mint\u001b[0m, \u001b[32;1mtorch.FloatTensor\u001b[0m, \u001b[31;1mtorch.cuda.FloatTensor\u001b[0m)\n",
      " * (float beta, float alpha, torch.SparseFloatTensor mat1, torch.FloatTensor mat2)\n",
      "      didn't match because some of the arguments have invalid types: (\u001b[32;1mint\u001b[0m, \u001b[32;1mint\u001b[0m, \u001b[31;1mtorch.FloatTensor\u001b[0m, \u001b[31;1mtorch.cuda.FloatTensor\u001b[0m)\n",
      "\n"
     ]
    }
   ],
   "source": [
    "if torch.cuda.is_available():\n",
    "    gpu_model = no_gpu_model.cuda()\n",
    "    try:\n",
    "        print(gpu_model.forward(batch))\n",
    "    except TypeError as e:\n",
    "        print(e)        "
   ]
  },
  {
   "cell_type": "markdown",
   "metadata": {},
   "source": [
    "I have opened an issue related to the above error at: https://github.com/pytorch/pytorch/issues/584"
   ]
  },
  {
   "cell_type": "code",
   "execution_count": 42,
   "metadata": {
    "collapsed": false
   },
   "outputs": [
    {
     "name": "stdout",
     "output_type": "stream",
     "text": [
      "torch.Size([10, 1])\n"
     ]
    }
   ],
   "source": [
    "if torch.cuda.is_available():\n",
    "    gpu_model = no_gpu_model.cuda()\n",
    "    try:\n",
    "        print(gpu_model.forward(batch.cuda()).size())\n",
    "    except TypeError as e:\n",
    "        print(e)   "
   ]
  },
  {
   "cell_type": "markdown",
   "metadata": {},
   "source": [
    "GPU to CPU fallback supported model"
   ]
  },
  {
   "cell_type": "code",
   "execution_count": 43,
   "metadata": {
    "collapsed": true
   },
   "outputs": [],
   "source": [
    "class LinearRegression(nn.Module):\n",
    "    def __init__(self, input_size, output_size):\n",
    "        super(LinearRegression, self).__init__()\n",
    "        self.x2o = nn.Linear(input_size, output_size)\n",
    "        \n",
    "    def forward(self, X):\n",
    "        if next(self.x2o.parameters()).is_cuda:\n",
    "            if not X.is_cuda:\n",
    "                X = X.cuda()\n",
    "        return self.x2o(X)"
   ]
  },
  {
   "cell_type": "code",
   "execution_count": 44,
   "metadata": {
    "collapsed": false
   },
   "outputs": [
    {
     "name": "stdout",
     "output_type": "stream",
     "text": [
      "No GPU model:  torch.Size([10, 1])\n",
      "GPU model:  torch.Size([10, 1])\n"
     ]
    }
   ],
   "source": [
    "batch = Variable(torch.randn(10,3))\n",
    "target = Variable(torch.randn(10,1))\n",
    "\n",
    "no_gpu_model = LinearRegression(input_size=3, output_size=1)\n",
    "print(\"No GPU model: \", no_gpu_model.forward(batch).size())\n",
    "\n",
    "if torch.cuda.is_available():\n",
    "    gpu_model = no_gpu_model.cuda()\n",
    "    try:\n",
    "        print(\"GPU model: \", gpu_model.forward(batch.cuda()).size())\n",
    "    except TypeError as e:\n",
    "        print(e)   "
   ]
  },
  {
   "cell_type": "code",
   "execution_count": null,
   "metadata": {
    "collapsed": true
   },
   "outputs": [],
   "source": []
  }
 ],
 "metadata": {
  "kernelspec": {
   "display_name": "Python [default]",
   "language": "python",
   "name": "python3"
  },
  "language_info": {
   "codemirror_mode": {
    "name": "ipython",
    "version": 3
   },
   "file_extension": ".py",
   "mimetype": "text/x-python",
   "name": "python",
   "nbconvert_exporter": "python",
   "pygments_lexer": "ipython3",
   "version": "3.5.2"
  }
 },
 "nbformat": 4,
 "nbformat_minor": 2
}
