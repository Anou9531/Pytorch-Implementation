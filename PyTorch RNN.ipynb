{
 "cells": [
  {
   "cell_type": "code",
   "execution_count": 1,
   "metadata": {
    "collapsed": true
   },
   "outputs": [],
   "source": [
    "%matplotlib inline\n",
    "import numpy as np\n",
    "\n",
    "import matplotlib.pyplot as plt\n",
    "\n",
    "import torch\n",
    "from torch.autograd import Variable\n",
    "import torch.nn as nn"
   ]
  },
  {
   "cell_type": "code",
   "execution_count": 2,
   "metadata": {
    "collapsed": false
   },
   "outputs": [
    {
     "data": {
      "text/plain": [
       "(2000,)"
      ]
     },
     "execution_count": 2,
     "metadata": {},
     "output_type": "execute_result"
    }
   ],
   "source": [
    "X = np.arange(-1,1,0.001)\n",
    "X.shape"
   ]
  },
  {
   "cell_type": "code",
   "execution_count": 3,
   "metadata": {
    "collapsed": false
   },
   "outputs": [
    {
     "data": {
      "text/plain": [
       "(2000,)"
      ]
     },
     "execution_count": 3,
     "metadata": {},
     "output_type": "execute_result"
    }
   ],
   "source": [
    "y = 4*X**3 + 2**X + 3\n",
    "y.shape"
   ]
  },
  {
   "cell_type": "code",
   "execution_count": 4,
   "metadata": {
    "collapsed": false
   },
   "outputs": [
    {
     "data": {
      "text/plain": [
       "[<matplotlib.lines.Line2D at 0x7feab3feac18>]"
      ]
     },
     "execution_count": 4,
     "metadata": {},
     "output_type": "execute_result"
    },
    {
     "data": {
      "image/png": "[encoded data removed]",
      "text/plain": [
       "<matplotlib.figure.Figure at 0x7feafdf53e10>"
      ]
     },
     "metadata": {},
     "output_type": "display_data"
    }
   ],
   "source": [
    "plt.plot(X,y)"
   ]
  },
  {
   "cell_type": "code",
   "execution_count": 5,
   "metadata": {
    "collapsed": false
   },
   "outputs": [],
   "source": [
    "class RNN(nn.Module):\n",
    "    def __init__(self, input_size, hidden_size, output_size):\n",
    "        super(RNN, self).__init__()\n",
    "        self.hidden_size = hidden_size\n",
    "        \n",
    "        self.x2h = nn.Linear(input_size, hidden_size)\n",
    "        self.h2h = nn.Linear(hidden_size, hidden_size)\n",
    "        self.h2o = nn.Linear(hidden_size, output_size)\n",
    "\n",
    "        self.tanh = nn.Tanh()\n",
    "        \n",
    "    def forward(self, x, h):\n",
    "        x_ = self.x2h(x)\n",
    "        h_ = self.h2h(h)\n",
    "        #h_ = h_.expand_as(x_)\n",
    "        new_h = x_ + h_\n",
    "        new_h = self.tanh(new_h)\n",
    "        output = self.h2o(new_h)\n",
    "        return output, new_h\n",
    "    \n",
    "    def reset_hidden(self, batch_size=1):\n",
    "        return Variable(torch.zeros(batch_size, self.hidden_size))"
   ]
  },
  {
   "cell_type": "code",
   "execution_count": 6,
   "metadata": {
    "collapsed": false
   },
   "outputs": [],
   "source": [
    "hidden_size = 3\n",
    "input_size = 1\n",
    "output_size = 1\n",
    "batch_size = 4\n",
    "\n",
    "rnn = RNN(input_size, hidden_size, output_size)"
   ]
  },
  {
   "cell_type": "code",
   "execution_count": 7,
   "metadata": {
    "collapsed": false
   },
   "outputs": [
    {
     "data": {
      "text/plain": [
       "Variable containing:\n",
       " 0  0  0\n",
       " 0  0  0\n",
       " 0  0  0\n",
       " 0  0  0\n",
       "[torch.FloatTensor of size 4x3]"
      ]
     },
     "execution_count": 7,
     "metadata": {},
     "output_type": "execute_result"
    }
   ],
   "source": [
    "hidden = rnn.reset_hidden(batch_size=batch_size)\n",
    "hidden"
   ]
  },
  {
   "cell_type": "code",
   "execution_count": 8,
   "metadata": {
    "collapsed": false
   },
   "outputs": [
    {
     "data": {
      "text/plain": [
       "Variable containing:\n",
       "-1.0000\n",
       "-0.9990\n",
       "-0.9980\n",
       "-0.9970\n",
       "[torch.FloatTensor of size 4x1]"
      ]
     },
     "execution_count": 8,
     "metadata": {},
     "output_type": "execute_result"
    }
   ],
   "source": [
    "batch = Variable(torch.from_numpy(X[:batch_size, np.newaxis])).float()\n",
    "batch"
   ]
  },
  {
   "cell_type": "code",
   "execution_count": 9,
   "metadata": {
    "collapsed": false
   },
   "outputs": [
    {
     "data": {
      "text/plain": [
       "(Variable containing:\n",
       " -0.1011\n",
       " -0.1014\n",
       " -0.1016\n",
       " -0.1019\n",
       " [torch.FloatTensor of size 4x1], Variable containing:\n",
       "  0.6076  0.4293 -0.2759\n",
       "  0.6071  0.4293 -0.2750\n",
       "  0.6067  0.4294 -0.2741\n",
       "  0.6062  0.4295 -0.2732\n",
       " [torch.FloatTensor of size 4x3])"
      ]
     },
     "execution_count": 9,
     "metadata": {},
     "output_type": "execute_result"
    }
   ],
   "source": [
    "rnn.forward(batch, hidden)"
   ]
  },
  {
   "cell_type": "code",
   "execution_count": 10,
   "metadata": {
    "collapsed": false
   },
   "outputs": [
    {
     "data": {
      "text/plain": [
       "(Variable containing:\n",
       " -0.1011\n",
       " -0.1014\n",
       " -0.1016\n",
       " -0.1019\n",
       " [torch.FloatTensor of size 4x1], Variable containing:\n",
       "  0.6076  0.4293 -0.2759\n",
       "  0.6071  0.4293 -0.2750\n",
       "  0.6067  0.4294 -0.2741\n",
       "  0.6062  0.4295 -0.2732\n",
       " [torch.FloatTensor of size 4x3])"
      ]
     },
     "execution_count": 10,
     "metadata": {},
     "output_type": "execute_result"
    }
   ],
   "source": [
    "rnn.forward(batch, hidden)"
   ]
  },
  {
   "cell_type": "code",
   "execution_count": 11,
   "metadata": {
    "collapsed": false
   },
   "outputs": [
    {
     "data": {
      "text/plain": [
       "Variable containing:\n",
       "-0.1011\n",
       "-0.1014\n",
       "-0.1016\n",
       "-0.1019\n",
       "[torch.FloatTensor of size 4x1]"
      ]
     },
     "execution_count": 11,
     "metadata": {},
     "output_type": "execute_result"
    }
   ],
   "source": [
    "output, new_hidden = rnn.forward(batch, hidden)\n",
    "output"
   ]
  },
  {
   "cell_type": "code",
   "execution_count": 12,
   "metadata": {
    "collapsed": false
   },
   "outputs": [
    {
     "data": {
      "text/plain": [
       "Variable containing:\n",
       " 0.6076  0.4293 -0.2759\n",
       " 0.6071  0.4293 -0.2750\n",
       " 0.6067  0.4294 -0.2741\n",
       " 0.6062  0.4295 -0.2732\n",
       "[torch.FloatTensor of size 4x3]"
      ]
     },
     "execution_count": 12,
     "metadata": {},
     "output_type": "execute_result"
    }
   ],
   "source": [
    "new_hidden"
   ]
  },
  {
   "cell_type": "code",
   "execution_count": 13,
   "metadata": {
    "collapsed": false
   },
   "outputs": [
    {
     "data": {
      "text/plain": [
       "(Variable containing:\n",
       " 1.00000e-02 *\n",
       "  -2.1973\n",
       "  -2.2158\n",
       "  -2.2344\n",
       "  -2.2530\n",
       " [torch.FloatTensor of size 4x1], Variable containing:\n",
       "  0.8017  0.3907 -0.5992\n",
       "  0.8013  0.3911 -0.5982\n",
       "  0.8009  0.3915 -0.5972\n",
       "  0.8006  0.3919 -0.5962\n",
       " [torch.FloatTensor of size 4x3])"
      ]
     },
     "execution_count": 13,
     "metadata": {},
     "output_type": "execute_result"
    }
   ],
   "source": [
    "rnn.forward(batch, new_hidden)"
   ]
  },
  {
   "cell_type": "code",
   "execution_count": 14,
   "metadata": {
    "collapsed": true
   },
   "outputs": [],
   "source": [
    "def get_variable_from_np(X):\n",
    "    return Variable(torch.from_numpy(X)).float()"
   ]
  },
  {
   "cell_type": "code",
   "execution_count": 15,
   "metadata": {
    "collapsed": false
   },
   "outputs": [
    {
     "data": {
      "text/plain": [
       "Variable containing:\n",
       "-1.0000\n",
       "-0.9990\n",
       "-0.9980\n",
       "-0.9970\n",
       "[torch.FloatTensor of size 4x1]"
      ]
     },
     "execution_count": 15,
     "metadata": {},
     "output_type": "execute_result"
    }
   ],
   "source": [
    "batch = get_variable_from_np(X[:batch_size, np.newaxis])\n",
    "batch"
   ]
  },
  {
   "cell_type": "code",
   "execution_count": 16,
   "metadata": {
    "collapsed": false
   },
   "outputs": [
    {
     "data": {
      "text/plain": [
       "torch.Size([2000, 1])"
      ]
     },
     "execution_count": 16,
     "metadata": {},
     "output_type": "execute_result"
    }
   ],
   "source": [
    "batch = get_variable_from_np(X[:, np.newaxis])\n",
    "hidden = rnn.reset_hidden(batch_size=X.shape[0])\n",
    "y_pred, _ = rnn.forward(batch, hidden)\n",
    "y_pred.size()"
   ]
  },
  {
   "cell_type": "code",
   "execution_count": 17,
   "metadata": {
    "collapsed": false
   },
   "outputs": [
    {
     "data": {
      "text/plain": [
       "(2000,)"
      ]
     },
     "execution_count": 17,
     "metadata": {},
     "output_type": "execute_result"
    }
   ],
   "source": [
    "y_pred.squeeze().data.numpy().shape"
   ]
  },
  {
   "cell_type": "code",
   "execution_count": 18,
   "metadata": {
    "collapsed": true
   },
   "outputs": [],
   "source": [
    "y_pred_np = y_pred.squeeze().data.numpy()"
   ]
  },
  {
   "cell_type": "code",
   "execution_count": 19,
   "metadata": {
    "collapsed": false
   },
   "outputs": [
    {
     "data": {
      "text/plain": [
       "<matplotlib.legend.Legend at 0x7feab3f8b588>"
      ]
     },
     "execution_count": 19,
     "metadata": {},
     "output_type": "execute_result"
    },
    {
     "data": {
      "image/png": "[encoded data removed]",
      "text/plain": [
       "<matplotlib.figure.Figure at 0x7feab3f8be80>"
      ]
     },
     "metadata": {},
     "output_type": "display_data"
    }
   ],
   "source": [
    "plt.plot(X,y, '-b', label='data')\n",
    "plt.plot(X,y_pred_np, '-r', label='rnn')\n",
    "plt.legend()"
   ]
  },
  {
   "cell_type": "code",
   "execution_count": 20,
   "metadata": {
    "collapsed": true
   },
   "outputs": [],
   "source": [
    "criterion = nn.MSELoss()\n",
    "optimizer = torch.optim.SGD(rnn.parameters(), lr=0.001, momentum=0.9)"
   ]
  },
  {
   "cell_type": "code",
   "execution_count": 21,
   "metadata": {
    "collapsed": true
   },
   "outputs": [],
   "source": [
    "batch_size = 4\n",
    "TIMESTEPS = X.shape[0]\n",
    "\n",
    "optimizer.zero_grad()\n",
    "loss = 0\n",
    "hidden = rnn.reset_hidden(batch_size=batch_size)\n",
    "for t in range(TIMESTEPS - batch_size):\n",
    "    batch = get_variable_from_np(X[t:t+batch_size, np.newaxis])\n",
    "    target = get_variable_from_np(y[t:t+batch_size, np.newaxis])\n",
    "    output, hidden = rnn.forward(batch, hidden)\n",
    "    loss += criterion(output, target)\n",
    "loss.backward()\n",
    "optimizer.step()"
   ]
  },
  {
   "cell_type": "code",
   "execution_count": 22,
   "metadata": {
    "collapsed": false
   },
   "outputs": [
    {
     "data": {
      "text/plain": [
       "<matplotlib.legend.Legend at 0x7feab0115f60>"
      ]
     },
     "execution_count": 22,
     "metadata": {},
     "output_type": "execute_result"
    },
    {
     "data": {
      "image/png": "[encoded data removed]",
      "text/plain": [
       "<matplotlib.figure.Figure at 0x7feab0dfc0b8>"
      ]
     },
     "metadata": {},
     "output_type": "display_data"
    }
   ],
   "source": [
    "batch = get_variable_from_np(X[:, np.newaxis])\n",
    "hidden = rnn.reset_hidden(batch_size=X.shape[0])\n",
    "y_pred, _ = rnn.forward(batch, hidden)\n",
    "y_pred.size()\n",
    "y_pred_np = y_pred.squeeze().data.numpy()\n",
    "plt.plot(X,y, '-b', label='data')\n",
    "plt.plot(X,y_pred_np, '-r', label='rnn')\n",
    "plt.legend()"
   ]
  },
  {
   "cell_type": "code",
   "execution_count": 23,
   "metadata": {
    "collapsed": false
   },
   "outputs": [
    {
     "data": {
      "text/plain": [
       "Variable containing:\n",
       " 42885.5781\n",
       "[torch.FloatTensor of size 1]"
      ]
     },
     "execution_count": 23,
     "metadata": {},
     "output_type": "execute_result"
    }
   ],
   "source": [
    "loss"
   ]
  },
  {
   "cell_type": "code",
   "execution_count": 24,
   "metadata": {
    "collapsed": false
   },
   "outputs": [
    {
     "data": {
      "text/plain": [
       "42885.578125"
      ]
     },
     "execution_count": 24,
     "metadata": {},
     "output_type": "execute_result"
    }
   ],
   "source": [
    "loss.data[0]"
   ]
  },
  {
   "cell_type": "code",
   "execution_count": 25,
   "metadata": {
    "collapsed": false
   },
   "outputs": [
    {
     "name": "stdout",
     "output_type": "stream",
     "text": [
      "Loss at epoch [0]: 591225.438\n",
      "Loss at epoch [1]: 131259592.000\n",
      "Loss at epoch [2]: 25611079680.000\n",
      "Loss at epoch [3]: 1281486094336.000\n",
      "Loss at epoch [4]: 81546337845248.000\n",
      "Loss at epoch [5]: 16190917530615808.000\n",
      "Loss at epoch [6]: 3186393218509963264.000\n",
      "Loss at epoch [7]: 627015487708005924864.000\n",
      "Loss at epoch [8]: 123386533121352473247744.000\n",
      "Loss at epoch [9]: 24277972012965988541661184.000\n"
     ]
    }
   ],
   "source": [
    "batch_size = 1\n",
    "TIMESTEPS = X.shape[0]\n",
    "epochs = 10\n",
    "\n",
    "criterion = nn.MSELoss()\n",
    "optimizer = torch.optim.SGD(rnn.parameters(), lr=0.001, momentum=0.9)\n",
    "for i in range(epochs):\n",
    "    loss = 0\n",
    "    optimizer.zero_grad()\n",
    "    hidden = rnn.reset_hidden(batch_size=batch_size)\n",
    "    for t in range(TIMESTEPS - batch_size):\n",
    "        batch = get_variable_from_np(X[t:t+batch_size, np.newaxis])\n",
    "        target = get_variable_from_np(y[t:t+batch_size, np.newaxis])\n",
    "        output, hidden = rnn.forward(batch, hidden)\n",
    "        loss += criterion(output, target)\n",
    "    loss.backward()\n",
    "    optimizer.step()\n",
    "    print(\"Loss at epoch [%s]: %.3f\" % (i, loss.data[0]))"
   ]
  },
  {
   "cell_type": "code",
   "execution_count": 26,
   "metadata": {
    "collapsed": false
   },
   "outputs": [
    {
     "data": {
      "text/plain": [
       "<matplotlib.legend.Legend at 0x7feaafa76c88>"
      ]
     },
     "execution_count": 26,
     "metadata": {},
     "output_type": "execute_result"
    },
    {
     "data": {
      "image/png": "[encoded data removed]",
      "text/plain": [
       "<matplotlib.figure.Figure at 0x7feab0e45198>"
      ]
     },
     "metadata": {},
     "output_type": "display_data"
    }
   ],
   "source": [
    "batch = get_variable_from_np(X[:, np.newaxis])\n",
    "hidden = rnn.reset_hidden(batch_size=X.shape[0])\n",
    "y_pred, _ = rnn.forward(batch, hidden)\n",
    "y_pred.size()\n",
    "y_pred_np = y_pred.squeeze().data.numpy()\n",
    "plt.plot(X,y, '-b', label='data')\n",
    "plt.plot(X,y_pred_np, '-r', label='rnn')\n",
    "plt.legend()"
   ]
  },
  {
   "cell_type": "markdown",
   "metadata": {},
   "source": [
    "## Use LSTM cell"
   ]
  },
  {
   "cell_type": "code",
   "execution_count": 27,
   "metadata": {
    "collapsed": true
   },
   "outputs": [],
   "source": [
    "lstm = nn.LSTMCell(input_size=input_size, hidden_size=hidden_size)\n",
    "output_layer = nn.Linear(hidden_size, output_size)"
   ]
  },
  {
   "cell_type": "code",
   "execution_count": 28,
   "metadata": {
    "collapsed": false
   },
   "outputs": [],
   "source": [
    "criterion = nn.MSELoss()\n",
    "optimizer = torch.optim.SGD([\n",
    "    {\"params\": lstm.parameters()},\n",
    "    {\"params\": output_layer.parameters()}\n",
    "], lr=0.001, momentum=0.9)"
   ]
  },
  {
   "cell_type": "code",
   "execution_count": 29,
   "metadata": {
    "collapsed": false
   },
   "outputs": [
    {
     "name": "stdout",
     "output_type": "stream",
     "text": [
      "Loss at epoch [0]: 20.835\n",
      "Loss at epoch [1]: 20.756\n",
      "Loss at epoch [2]: 20.606\n",
      "Loss at epoch [3]: 20.393\n",
      "Loss at epoch [4]: 20.127\n",
      "Loss at epoch [5]: 19.813\n",
      "Loss at epoch [6]: 19.459\n",
      "Loss at epoch [7]: 19.072\n",
      "Loss at epoch [8]: 18.657\n",
      "Loss at epoch [9]: 18.220\n"
     ]
    }
   ],
   "source": [
    "batch_size = 1\n",
    "TIMESTEPS = X.shape[0]\n",
    "epochs = 10\n",
    "\n",
    "for i in range(epochs):\n",
    "    loss = 0\n",
    "    optimizer.zero_grad()\n",
    "    hidden = rnn.reset_hidden(batch_size=batch_size) # Use same hidden function from RNN class\n",
    "    cell_state = rnn.reset_hidden(batch_size=batch_size) # Use same hidden function from RNN class\n",
    "    for t in range(TIMESTEPS):\n",
    "        batch = get_variable_from_np(X[t:t+batch_size, np.newaxis])\n",
    "        target = get_variable_from_np(y[t:t+batch_size, np.newaxis])\n",
    "        hidden, cell_state = lstm.forward(batch, (hidden, cell_state))\n",
    "        output = output_layer.forward(hidden)\n",
    "        loss += criterion(output, target)\n",
    "    loss = loss / TIMESTEPS\n",
    "    loss.backward()\n",
    "    optimizer.step()\n",
    "    print(\"Loss at epoch [%s]: %.3f\" % (i, loss.data[0]))"
   ]
  },
  {
   "cell_type": "code",
   "execution_count": 30,
   "metadata": {
    "collapsed": false
   },
   "outputs": [],
   "source": [
    "batch_size = 1\n",
    "hidden = rnn.reset_hidden(batch_size=batch_size) # Use same hidden function from RNN class\n",
    "cell_state = rnn.reset_hidden(batch_size=batch_size) # Use same hidden function from RNN class\n",
    "y_pred = []\n",
    "for t in range(TIMESTEPS):\n",
    "    batch = get_variable_from_np(X[t:t+batch_size, np.newaxis])\n",
    "    target = get_variable_from_np(y[t:t+batch_size, np.newaxis])\n",
    "    hidden, cell_state = lstm.forward(batch, (hidden, cell_state))\n",
    "    output = output_layer.forward(hidden)\n",
    "    y_pred.append(output.data)"
   ]
  },
  {
   "cell_type": "code",
   "execution_count": 31,
   "metadata": {
    "collapsed": false
   },
   "outputs": [
    {
     "data": {
      "text/plain": [
       "\n",
       " 0.2523\n",
       "[torch.FloatTensor of size 1x1]"
      ]
     },
     "execution_count": 31,
     "metadata": {},
     "output_type": "execute_result"
    }
   ],
   "source": [
    "y_pred[0]"
   ]
  },
  {
   "cell_type": "code",
   "execution_count": 32,
   "metadata": {
    "collapsed": false
   },
   "outputs": [
    {
     "data": {
      "text/plain": [
       "(2000,)"
      ]
     },
     "execution_count": 32,
     "metadata": {},
     "output_type": "execute_result"
    }
   ],
   "source": [
    "y_pred_np = np.array([k.numpy() for k in y_pred]).squeeze()\n",
    "y_pred_np.shape"
   ]
  },
  {
   "cell_type": "code",
   "execution_count": 33,
   "metadata": {
    "collapsed": false
   },
   "outputs": [
    {
     "data": {
      "text/plain": [
       "<matplotlib.legend.Legend at 0x7feaaec0e4e0>"
      ]
     },
     "execution_count": 33,
     "metadata": {},
     "output_type": "execute_result"
    },
    {
     "data": {
      "image/png": "[encoded data removed]",
      "text/plain": [
       "<matplotlib.figure.Figure at 0x7feaafa1b7b8>"
      ]
     },
     "metadata": {},
     "output_type": "display_data"
    }
   ],
   "source": [
    "plt.plot(X,y, '-b', label='data')\n",
    "plt.plot(X,y_pred_np, '-r', label='rnn')\n",
    "plt.legend()"
   ]
  },
  {
   "cell_type": "markdown",
   "metadata": {},
   "source": [
    "## Use LSTM Layer"
   ]
  },
  {
   "cell_type": "code",
   "execution_count": 34,
   "metadata": {
    "collapsed": true
   },
   "outputs": [],
   "source": [
    "lstm = nn.LSTM(input_size=input_size, hidden_size=hidden_size)\n",
    "output_layer = nn.Linear(hidden_size, output_size)"
   ]
  },
  {
   "cell_type": "code",
   "execution_count": 35,
   "metadata": {
    "collapsed": false
   },
   "outputs": [
    {
     "data": {
      "text/plain": [
       "torch.Size([2000, 1, 1])"
      ]
     },
     "execution_count": 35,
     "metadata": {},
     "output_type": "execute_result"
    }
   ],
   "source": [
    "batch = get_variable_from_np(X[:, np.newaxis, np.newaxis])\n",
    "batch.size()"
   ]
  },
  {
   "cell_type": "code",
   "execution_count": 36,
   "metadata": {
    "collapsed": true
   },
   "outputs": [],
   "source": [
    "hidden = Variable(torch.zeros(1, batch.size(1), hidden_size))\n",
    "cell_state = Variable(torch.zeros(1, batch.size(1), hidden_size))"
   ]
  },
  {
   "cell_type": "code",
   "execution_count": 37,
   "metadata": {
    "collapsed": false
   },
   "outputs": [],
   "source": [
    "hx = (hidden, cell_state)\n",
    "output, (h_n, c_n) = lstm.forward(batch, hx)"
   ]
  },
  {
   "cell_type": "code",
   "execution_count": 38,
   "metadata": {
    "collapsed": false
   },
   "outputs": [
    {
     "data": {
      "text/plain": [
       "torch.Size([2000, 1, 3])"
      ]
     },
     "execution_count": 38,
     "metadata": {},
     "output_type": "execute_result"
    }
   ],
   "source": [
    "output.size()"
   ]
  },
  {
   "cell_type": "code",
   "execution_count": 39,
   "metadata": {
    "collapsed": false
   },
   "outputs": [
    {
     "data": {
      "text/plain": [
       "Variable containing:\n",
       " 0.2300\n",
       "[torch.FloatTensor of size 1x1]"
      ]
     },
     "execution_count": 39,
     "metadata": {},
     "output_type": "execute_result"
    }
   ],
   "source": [
    "out = output_layer.forward(output[0])\n",
    "out"
   ]
  },
  {
   "cell_type": "code",
   "execution_count": 40,
   "metadata": {
    "collapsed": true
   },
   "outputs": [],
   "source": [
    "criterion = nn.MSELoss()\n",
    "optimizer = torch.optim.SGD([\n",
    "    {\"params\": lstm.parameters()},\n",
    "    {\"params\": output_layer.parameters()}\n",
    "], lr=0.001, momentum=0.9)"
   ]
  },
  {
   "cell_type": "code",
   "execution_count": 41,
   "metadata": {
    "collapsed": false
   },
   "outputs": [
    {
     "name": "stdout",
     "output_type": "stream",
     "text": [
      "Loss at epoch [0]: 0.533\n",
      "Loss at epoch [1]: 0.520\n",
      "Loss at epoch [2]: 0.502\n",
      "Loss at epoch [3]: 0.480\n",
      "Loss at epoch [4]: 0.456\n",
      "Loss at epoch [5]: 0.430\n",
      "Loss at epoch [6]: 0.405\n",
      "Loss at epoch [7]: 0.379\n",
      "Loss at epoch [8]: 0.353\n",
      "Loss at epoch [9]: 0.327\n"
     ]
    }
   ],
   "source": [
    "batch_size = 1\n",
    "epochs = 10\n",
    "\n",
    "for i in range(epochs):\n",
    "    loss = 0\n",
    "    optimizer.zero_grad()\n",
    "    batch = get_variable_from_np(X[:, np.newaxis, np.newaxis])\n",
    "    target = get_variable_from_np(y[:, np.newaxis, np.newaxis])\n",
    "    hidden = Variable(torch.zeros(1, batch.size(1), hidden_size))\n",
    "    cell_state = Variable(torch.zeros(1, batch.size(1), hidden_size))\n",
    "    hx = (hidden, cell_state)\n",
    "    output, (h_n, c_n) = lstm.forward(batch, hx)\n",
    "    for j in range(output.size()[0]):\n",
    "        out = output_layer.forward(output[i])\n",
    "        loss += (out - target[i])**2\n",
    "        #loss += criterion(out, target[i])\n",
    "    loss = loss / X.shape[0]\n",
    "    loss.backward()\n",
    "    optimizer.step()\n",
    "    print(\"Loss at epoch [%s]: %.3f\" % (i, loss.squeeze().data[0]))"
   ]
  },
  {
   "cell_type": "code",
   "execution_count": 42,
   "metadata": {
    "collapsed": false
   },
   "outputs": [
    {
     "data": {
      "text/plain": [
       "torch.Size([2000, 1, 3])"
      ]
     },
     "execution_count": 42,
     "metadata": {},
     "output_type": "execute_result"
    }
   ],
   "source": [
    "output.size()"
   ]
  },
  {
   "cell_type": "code",
   "execution_count": 43,
   "metadata": {
    "collapsed": false
   },
   "outputs": [
    {
     "data": {
      "text/plain": [
       "Variable containing:\n",
       " 0.1822\n",
       "[torch.FloatTensor of size 1x1]"
      ]
     },
     "execution_count": 43,
     "metadata": {},
     "output_type": "execute_result"
    }
   ],
   "source": [
    "out"
   ]
  },
  {
   "cell_type": "code",
   "execution_count": 44,
   "metadata": {
    "collapsed": false
   },
   "outputs": [
    {
     "data": {
      "text/plain": [
       "Variable containing:\n",
       "-0.3898\n",
       "[torch.FloatTensor of size 1x1]"
      ]
     },
     "execution_count": 44,
     "metadata": {},
     "output_type": "execute_result"
    }
   ],
   "source": [
    "target[i]"
   ]
  },
  {
   "cell_type": "code",
   "execution_count": 45,
   "metadata": {
    "collapsed": true
   },
   "outputs": [],
   "source": [
    "y_pred = []\n",
    "for i in range(output.size()[0]):\n",
    "        out = output_layer.forward(output[i])\n",
    "        y_pred.append(out.squeeze().data[0])\n",
    "y_pred = np.array(y_pred)"
   ]
  },
  {
   "cell_type": "code",
   "execution_count": 46,
   "metadata": {
    "collapsed": false
   },
   "outputs": [
    {
     "data": {
      "text/plain": [
       "<matplotlib.legend.Legend at 0x7feaaed8ab00>"
      ]
     },
     "execution_count": 46,
     "metadata": {},
     "output_type": "execute_result"
    },
    {
     "data": {
      "image/png": "[encoded data removed]",
      "text/plain": [
       "<matplotlib.figure.Figure at 0x7feaaf506f98>"
      ]
     },
     "metadata": {},
     "output_type": "display_data"
    }
   ],
   "source": [
    "plt.plot(X,y, '-b', label='data')\n",
    "plt.plot(X,y_pred, '-r', label='rnn')\n",
    "plt.legend()"
   ]
  },
  {
   "cell_type": "code",
   "execution_count": null,
   "metadata": {
    "collapsed": true
   },
   "outputs": [],
   "source": []
  },
  {
   "cell_type": "code",
   "execution_count": null,
   "metadata": {
    "collapsed": true
   },
   "outputs": [],
   "source": []
  },
  {
   "cell_type": "code",
   "execution_count": null,
   "metadata": {
    "collapsed": true
   },
   "outputs": [],
   "source": []
  }
 ],
 "metadata": {
  "kernelspec": {
   "display_name": "Python [default]",
   "language": "python",
   "name": "python3"
  },
  "language_info": {
   "codemirror_mode": {
    "name": "ipython",
    "version": 3
   },
   "file_extension": ".py",
   "mimetype": "text/x-python",
   "name": "python",
   "nbconvert_exporter": "python",
   "pygments_lexer": "ipython3",
   "version": "3.5.2"
  }
 },
 "nbformat": 4,
 "nbformat_minor": 2
}
