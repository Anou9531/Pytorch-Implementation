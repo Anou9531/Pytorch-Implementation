{
 "cells": [
  {
   "cell_type": "code",
   "execution_count": 1,
   "metadata": {
    "collapsed": true
   },
   "outputs": [],
   "source": [
    "%matplotlib inline\n",
    "import numpy as np\n",
    "\n",
    "import matplotlib.pyplot as plt\n",
    "\n",
    "import torch\n",
    "from torch.autograd import Variable\n",
    "import torch.nn as nn"
   ]
  },
  {
   "cell_type": "code",
   "execution_count": 2,
   "metadata": {
    "collapsed": false
   },
   "outputs": [
    {
     "data": {
      "text/plain": [
       "(2000,)"
      ]
     },
     "execution_count": 2,
     "metadata": {},
     "output_type": "execute_result"
    }
   ],
   "source": [
    "X = np.arange(-1,1,0.001)\n",
    "X.shape"
   ]
  },
  {
   "cell_type": "code",
   "execution_count": 3,
   "metadata": {
    "collapsed": false
   },
   "outputs": [
    {
     "data": {
      "text/plain": [
       "(2000,)"
      ]
     },
     "execution_count": 3,
     "metadata": {},
     "output_type": "execute_result"
    }
   ],
   "source": [
    "y = 4*X**3 + 2**X + 3\n",
    "y.shape"
   ]
  },
  {
   "cell_type": "code",
   "execution_count": 4,
   "metadata": {
    "collapsed": false
   },
   "outputs": [
    {
     "data": {
      "text/plain": [
       "[<matplotlib.lines.Line2D at 0x7f828208b438>]"
      ]
     },
     "execution_count": 4,
     "metadata": {},
     "output_type": "execute_result"
    },
    {
     "data": {
      "image/png": "[encoded data removed]",
      "text/plain": [
       "<matplotlib.figure.Figure at 0x7f82d0768400>"
      ]
     },
     "metadata": {},
     "output_type": "display_data"
    }
   ],
   "source": [
    "plt.plot(X,y)"
   ]
  },
  {
   "cell_type": "markdown",
   "metadata": {},
   "source": [
    "## Implementation from Pytorch tutorial"
   ]
  },
  {
   "cell_type": "code",
   "execution_count": 5,
   "metadata": {
    "collapsed": false
   },
   "outputs": [],
   "source": [
    "class RNN(nn.Module):\n",
    "    def __init__(self, input_size, hidden_size, output_size):\n",
    "        super(RNN, self).__init__()\n",
    "        self.hidden_size = hidden_size\n",
    "        \n",
    "        self.i2h = nn.Linear(input_size+hidden_size, hidden_size)\n",
    "        self.h2o = nn.Linear(input_size+hidden_size, output_size)\n",
    "        self.tanh = nn.Tanh()\n",
    "        \n",
    "    def forward(self, x, h):\n",
    "        inp = torch.cat((x,h), 1)\n",
    "        hidden = self.tanh(self.i2h(inp))\n",
    "        output = self.h2o(inp)\n",
    "        return hidden, output\n",
    "    \n",
    "    \n",
    "    def get_output(self, X):\n",
    "        time_steps = X.size(0)\n",
    "        batch_size = X.size(1)\n",
    "        hidden = Variable(torch.zeros(batch_size, self.hidden_size))\n",
    "        outputs = []\n",
    "        hiddens = []\n",
    "        for t in range(time_steps):\n",
    "            hidden, output = self.forward(X[t], hidden)\n",
    "            outputs.append(output)\n",
    "            hiddens.append(hidden)\n",
    "        return torch.cat(hiddens, 1), torch.cat(outputs, 1)\n",
    "    \n",
    "## Helper functions\n",
    "\n",
    "def get_variable_from_np(X):\n",
    "    return Variable(torch.from_numpy(X)).float()\n",
    "\n",
    "\n",
    "def get_training_data(X, y, max_steps=10):\n",
    "    inputs = []\n",
    "    targets = []\n",
    "    time_steps = X.shape[0]\n",
    "    for i in range(0, time_steps, max_steps):\n",
    "        inputs.append(get_variable_from_np(\n",
    "            X[i:i+max_steps, np.newaxis, np.newaxis]))\n",
    "        targets.append(get_variable_from_np(\n",
    "            y[i:i+max_steps, np.newaxis, np.newaxis]))\n",
    "    return torch.cat(inputs, 1), torch.cat(targets, 1)    "
   ]
  },
  {
   "cell_type": "code",
   "execution_count": 6,
   "metadata": {
    "collapsed": true
   },
   "outputs": [],
   "source": [
    "rnn = RNN(30, 20, 1)"
   ]
  },
  {
   "cell_type": "code",
   "execution_count": 7,
   "metadata": {
    "collapsed": false
   },
   "outputs": [],
   "source": [
    "criterion = nn.MSELoss()\n",
    "batch_size = 10\n",
    "TIMESTEPS = 5\n",
    "\n",
    "batch = Variable(torch.randn(batch_size, 30))\n",
    "hidden = Variable(torch.randn(batch_size, 20))\n",
    "target = Variable(torch.randn(batch_size, 1))\n",
    "\n",
    "loss = 0\n",
    "for t in range(TIMESTEPS):\n",
    "    hidden, output = rnn(batch, hidden)\n",
    "    loss += criterion(output, target)\n",
    "    \n",
    "loss.backward()    "
   ]
  },
  {
   "cell_type": "markdown",
   "metadata": {},
   "source": [
    "### Run on own data"
   ]
  },
  {
   "cell_type": "code",
   "execution_count": 8,
   "metadata": {
    "collapsed": true
   },
   "outputs": [],
   "source": [
    "rnn = RNN(1,3,1)"
   ]
  },
  {
   "cell_type": "code",
   "execution_count": 9,
   "metadata": {
    "collapsed": false
   },
   "outputs": [],
   "source": [
    "criterion = nn.MSELoss()\n",
    "#optimizer = torch.optim.SGD(rnn.parameters(), lr=0.001, momentum=0.9)\n",
    "optimizer = torch.optim.Adadelta(rnn.parameters())"
   ]
  },
  {
   "cell_type": "code",
   "execution_count": 10,
   "metadata": {
    "collapsed": false
   },
   "outputs": [
    {
     "data": {
      "text/plain": [
       "(2000, 1, 1)"
      ]
     },
     "execution_count": 10,
     "metadata": {},
     "output_type": "execute_result"
    }
   ],
   "source": [
    "X[:, np.newaxis, np.newaxis].shape"
   ]
  },
  {
   "cell_type": "code",
   "execution_count": 11,
   "metadata": {
    "collapsed": false
   },
   "outputs": [],
   "source": [
    "batch = get_variable_from_np(X[:, np.newaxis, np.newaxis])\n",
    "hiddens, outputs = rnn.get_output(batch)"
   ]
  },
  {
   "cell_type": "code",
   "execution_count": 12,
   "metadata": {
    "collapsed": false
   },
   "outputs": [
    {
     "data": {
      "text/plain": [
       "Variable containing:\n",
       " 0.3605  0.3221  0.3861  ...  -0.3160 -0.3164 -0.3168\n",
       "[torch.FloatTensor of size 1x2000]"
      ]
     },
     "execution_count": 12,
     "metadata": {},
     "output_type": "execute_result"
    }
   ],
   "source": [
    "outputs"
   ]
  },
  {
   "cell_type": "code",
   "execution_count": 13,
   "metadata": {
    "collapsed": false
   },
   "outputs": [
    {
     "data": {
      "text/plain": [
       "Variable containing:\n",
       "-0.5000 -0.4877 -0.4754  ...   8.9600  8.9733  8.9866\n",
       "[torch.FloatTensor of size 1x2000]"
      ]
     },
     "execution_count": 13,
     "metadata": {},
     "output_type": "execute_result"
    }
   ],
   "source": [
    "target = get_variable_from_np(y[np.newaxis, :])\n",
    "target"
   ]
  },
  {
   "cell_type": "code",
   "execution_count": 14,
   "metadata": {
    "collapsed": false
   },
   "outputs": [
    {
     "data": {
      "text/plain": [
       "torch.Size([10, 5, 1])"
      ]
     },
     "execution_count": 14,
     "metadata": {},
     "output_type": "execute_result"
    }
   ],
   "source": [
    "torch.cat([get_variable_from_np(X[i:i+10, np.newaxis, np.newaxis]) for i in range(5)], 1).size()"
   ]
  },
  {
   "cell_type": "code",
   "execution_count": 15,
   "metadata": {
    "collapsed": false
   },
   "outputs": [
    {
     "data": {
      "text/plain": [
       "torch.Size([10, 5, 1])"
      ]
     },
     "execution_count": 15,
     "metadata": {},
     "output_type": "execute_result"
    }
   ],
   "source": [
    "torch.cat([get_variable_from_np(y[i:i+10, np.newaxis, np.newaxis]) for i in range(5)], 1).size()"
   ]
  },
  {
   "cell_type": "code",
   "execution_count": 16,
   "metadata": {
    "collapsed": false
   },
   "outputs": [
    {
     "name": "stdout",
     "output_type": "stream",
     "text": [
      "Loss at epoch [49]: 11.593\n",
      "Loss at epoch [99]: 1.054\n",
      "Loss at epoch [149]: 4.781\n",
      "Loss at epoch [199]: 16.875\n",
      "Loss at epoch [249]: 17.653\n",
      "Loss at epoch [299]: 7.151\n",
      "Loss at epoch [349]: 0.812\n",
      "Loss at epoch [399]: 6.405\n",
      "Loss at epoch [449]: 16.412\n",
      "Loss at epoch [499]: 17.247\n"
     ]
    }
   ],
   "source": [
    "batch_size = 1\n",
    "TIMESTEPS = X.shape[0]\n",
    "epochs = 500\n",
    "print_every = 50\n",
    "inputs, targets = get_training_data(X, y, max_steps=1)\n",
    "losses = []\n",
    "\n",
    "optimizer.zero_grad()\n",
    "for i in range(epochs):\n",
    "    hiddens, outputs = rnn.get_output(inputs)\n",
    "    loss = criterion(outputs, targets)\n",
    "    loss.backward()\n",
    "    optimizer.step()\n",
    "    losses.append(loss.data[0])\n",
    "    if (i+1) % print_every == 0:\n",
    "        print(\"Loss at epoch [%s]: %.3f\" % (i, loss.data[0]))"
   ]
  },
  {
   "cell_type": "code",
   "execution_count": 17,
   "metadata": {
    "collapsed": false
   },
   "outputs": [
    {
     "data": {
      "text/plain": [
       "(2000,)"
      ]
     },
     "execution_count": 17,
     "metadata": {},
     "output_type": "execute_result"
    }
   ],
   "source": [
    "outputs.data.numpy().flatten().shape"
   ]
  },
  {
   "cell_type": "code",
   "execution_count": 18,
   "metadata": {
    "collapsed": false
   },
   "outputs": [
    {
     "data": {
      "text/plain": [
       "((2000,), (2000,))"
      ]
     },
     "execution_count": 18,
     "metadata": {},
     "output_type": "execute_result"
    }
   ],
   "source": [
    "X.shape, outputs.data.numpy().flatten().shape"
   ]
  },
  {
   "cell_type": "code",
   "execution_count": 19,
   "metadata": {
    "collapsed": false,
    "scrolled": true
   },
   "outputs": [
    {
     "data": {
      "text/plain": [
       "<matplotlib.legend.Legend at 0x7f827c282e80>"
      ]
     },
     "execution_count": 19,
     "metadata": {},
     "output_type": "execute_result"
    },
    {
     "data": {
      "image/png": "[encoded data removed]",
      "text/plain": [
       "<matplotlib.figure.Figure at 0x7f827c4c6668>"
      ]
     },
     "metadata": {},
     "output_type": "display_data"
    }
   ],
   "source": [
    "plt.plot(X,y, '-b', label='data')\n",
    "plt.plot(X, outputs.data.numpy().flatten(), '-r', label='rnn')\n",
    "plt.legend()"
   ]
  },
  {
   "cell_type": "markdown",
   "metadata": {},
   "source": [
    "# Try to use the LSTM cells and LSTM layer (Work in progress)\n",
    "\n",
    "\n",
    "\n",
    "## Use LSTM cell"
   ]
  },
  {
   "cell_type": "code",
   "execution_count": 20,
   "metadata": {
    "collapsed": false
   },
   "outputs": [],
   "source": [
    "input_size, hidden_size, output_size = 1,3,1\n",
    "lstm = nn.LSTMCell(input_size=input_size, hidden_size=hidden_size)\n",
    "output_layer = nn.Linear(hidden_size, output_size)"
   ]
  },
  {
   "cell_type": "code",
   "execution_count": 21,
   "metadata": {
    "collapsed": false
   },
   "outputs": [],
   "source": [
    "criterion = nn.MSELoss()\n",
    "optimizer = torch.optim.SGD([\n",
    "    {\"params\": lstm.parameters()},\n",
    "    {\"params\": output_layer.parameters()}\n",
    "], lr=0.001, momentum=0.9)"
   ]
  },
  {
   "cell_type": "markdown",
   "metadata": {},
   "source": [
    "## Use LSTM Layer"
   ]
  },
  {
   "cell_type": "code",
   "execution_count": 22,
   "metadata": {
    "collapsed": true
   },
   "outputs": [],
   "source": [
    "lstm = nn.LSTM(input_size=input_size, hidden_size=hidden_size)\n",
    "output_layer = nn.Linear(hidden_size, output_size)"
   ]
  },
  {
   "cell_type": "code",
   "execution_count": 23,
   "metadata": {
    "collapsed": false
   },
   "outputs": [
    {
     "data": {
      "text/plain": [
       "torch.Size([2000, 1, 1])"
      ]
     },
     "execution_count": 23,
     "metadata": {},
     "output_type": "execute_result"
    }
   ],
   "source": [
    "batch = get_variable_from_np(X[:, np.newaxis, np.newaxis])\n",
    "batch.size()"
   ]
  },
  {
   "cell_type": "code",
   "execution_count": 24,
   "metadata": {
    "collapsed": true
   },
   "outputs": [],
   "source": [
    "hidden = Variable(torch.zeros(1, batch.size(1), hidden_size))\n",
    "cell_state = Variable(torch.zeros(1, batch.size(1), hidden_size))"
   ]
  },
  {
   "cell_type": "code",
   "execution_count": 25,
   "metadata": {
    "collapsed": false
   },
   "outputs": [],
   "source": [
    "hx = (hidden, cell_state)\n",
    "output, (h_n, c_n) = lstm.forward(batch, hx)"
   ]
  },
  {
   "cell_type": "code",
   "execution_count": 26,
   "metadata": {
    "collapsed": false
   },
   "outputs": [
    {
     "data": {
      "text/plain": [
       "torch.Size([2000, 1, 3])"
      ]
     },
     "execution_count": 26,
     "metadata": {},
     "output_type": "execute_result"
    }
   ],
   "source": [
    "output.size()"
   ]
  },
  {
   "cell_type": "code",
   "execution_count": 27,
   "metadata": {
    "collapsed": false
   },
   "outputs": [
    {
     "data": {
      "text/plain": [
       "Variable containing:\n",
       "1.00000e-02 *\n",
       " -1.9964\n",
       "[torch.FloatTensor of size 1x1]"
      ]
     },
     "execution_count": 27,
     "metadata": {},
     "output_type": "execute_result"
    }
   ],
   "source": [
    "out = output_layer.forward(output[0])\n",
    "out"
   ]
  },
  {
   "cell_type": "code",
   "execution_count": 28,
   "metadata": {
    "collapsed": true
   },
   "outputs": [],
   "source": [
    "criterion = nn.MSELoss()\n",
    "optimizer = torch.optim.SGD([\n",
    "    {\"params\": lstm.parameters()},\n",
    "    {\"params\": output_layer.parameters()}\n",
    "], lr=0.001, momentum=0.9)"
   ]
  },
  {
   "cell_type": "code",
   "execution_count": 29,
   "metadata": {
    "collapsed": false
   },
   "outputs": [
    {
     "name": "stdout",
     "output_type": "stream",
     "text": [
      "Loss at epoch [0]: 0.230\n",
      "Loss at epoch [1]: 0.218\n",
      "Loss at epoch [2]: 0.208\n",
      "Loss at epoch [3]: 0.196\n",
      "Loss at epoch [4]: 0.184\n",
      "Loss at epoch [5]: 0.171\n",
      "Loss at epoch [6]: 0.158\n",
      "Loss at epoch [7]: 0.145\n",
      "Loss at epoch [8]: 0.132\n",
      "Loss at epoch [9]: 0.120\n"
     ]
    }
   ],
   "source": [
    "batch_size = 1\n",
    "epochs = 10\n",
    "\n",
    "for i in range(epochs):\n",
    "    loss = 0\n",
    "    optimizer.zero_grad()\n",
    "    batch = get_variable_from_np(X[:, np.newaxis, np.newaxis])\n",
    "    target = get_variable_from_np(y[:, np.newaxis, np.newaxis])\n",
    "    hidden = Variable(torch.zeros(1, batch.size(1), hidden_size))\n",
    "    cell_state = Variable(torch.zeros(1, batch.size(1), hidden_size))\n",
    "    hx = (hidden, cell_state)\n",
    "    output, (h_n, c_n) = lstm.forward(batch, hx)\n",
    "    for j in range(output.size()[0]):\n",
    "        out = output_layer.forward(output[i])\n",
    "        loss += (out - target[i])**2\n",
    "        #loss += criterion(out, target[i])\n",
    "    loss = loss / X.shape[0]\n",
    "    loss.backward()\n",
    "    optimizer.step()\n",
    "    print(\"Loss at epoch [%s]: %.3f\" % (i, loss.squeeze().data[0]))"
   ]
  },
  {
   "cell_type": "code",
   "execution_count": 30,
   "metadata": {
    "collapsed": false
   },
   "outputs": [
    {
     "data": {
      "text/plain": [
       "torch.Size([2000, 1, 3])"
      ]
     },
     "execution_count": 30,
     "metadata": {},
     "output_type": "execute_result"
    }
   ],
   "source": [
    "output.size()"
   ]
  },
  {
   "cell_type": "code",
   "execution_count": 31,
   "metadata": {
    "collapsed": false
   },
   "outputs": [
    {
     "data": {
      "text/plain": [
       "Variable containing:\n",
       "1.00000e-02 *\n",
       " -4.3584\n",
       "[torch.FloatTensor of size 1x1]"
      ]
     },
     "execution_count": 31,
     "metadata": {},
     "output_type": "execute_result"
    }
   ],
   "source": [
    "out"
   ]
  },
  {
   "cell_type": "code",
   "execution_count": 32,
   "metadata": {
    "collapsed": false
   },
   "outputs": [
    {
     "data": {
      "text/plain": [
       "Variable containing:\n",
       "-0.3898\n",
       "[torch.FloatTensor of size 1x1]"
      ]
     },
     "execution_count": 32,
     "metadata": {},
     "output_type": "execute_result"
    }
   ],
   "source": [
    "target[i]"
   ]
  },
  {
   "cell_type": "code",
   "execution_count": 33,
   "metadata": {
    "collapsed": true
   },
   "outputs": [],
   "source": [
    "y_pred = []\n",
    "for i in range(output.size()[0]):\n",
    "        out = output_layer.forward(output[i])\n",
    "        y_pred.append(out.squeeze().data[0])\n",
    "y_pred = np.array(y_pred)"
   ]
  },
  {
   "cell_type": "code",
   "execution_count": 34,
   "metadata": {
    "collapsed": false
   },
   "outputs": [
    {
     "data": {
      "text/plain": [
       "<matplotlib.legend.Legend at 0x7f827b7a1b70>"
      ]
     },
     "execution_count": 34,
     "metadata": {},
     "output_type": "execute_result"
    },
    {
     "data": {
      "image/png": "[encoded data removed]",
      "text/plain": [
       "<matplotlib.figure.Figure at 0x7f827b94ef28>"
      ]
     },
     "metadata": {},
     "output_type": "display_data"
    }
   ],
   "source": [
    "plt.plot(X,y, '-b', label='data')\n",
    "plt.plot(X,y_pred, '-r', label='rnn')\n",
    "plt.legend()"
   ]
  }
 ],
 "metadata": {
  "kernelspec": {
   "display_name": "Python [default]",
   "language": "python",
   "name": "python3"
  },
  "language_info": {
   "codemirror_mode": {
    "name": "ipython",
    "version": 3
   },
   "file_extension": ".py",
   "mimetype": "text/x-python",
   "name": "python",
   "nbconvert_exporter": "python",
   "pygments_lexer": "ipython3",
   "version": "3.5.2"
  }
 },
 "nbformat": 4,
 "nbformat_minor": 2
}
